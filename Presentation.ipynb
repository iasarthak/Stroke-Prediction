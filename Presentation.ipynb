{
 "cells": [
  {
   "cell_type": "code",
   "execution_count": 41,
   "metadata": {},
   "outputs": [],
   "source": [
    "import pandas as pd\n",
    "import numpy as np\n",
    "import matplotlib.pyplot as plt\n",
    "import seaborn as sns\n",
    "\n",
    "from IPython.display import display, clear_output"
   ]
  },
  {
   "cell_type": "code",
   "execution_count": 42,
   "metadata": {},
   "outputs": [
    {
     "data": {
      "text/html": [
       "<div>\n",
       "<style scoped>\n",
       "    .dataframe tbody tr th:only-of-type {\n",
       "        vertical-align: middle;\n",
       "    }\n",
       "\n",
       "    .dataframe tbody tr th {\n",
       "        vertical-align: top;\n",
       "    }\n",
       "\n",
       "    .dataframe thead th {\n",
       "        text-align: right;\n",
       "    }\n",
       "</style>\n",
       "<table border=\"1\" class=\"dataframe\">\n",
       "  <thead>\n",
       "    <tr style=\"text-align: right;\">\n",
       "      <th></th>\n",
       "      <th>id</th>\n",
       "      <th>gender</th>\n",
       "      <th>age</th>\n",
       "      <th>hypertension</th>\n",
       "      <th>heart_disease</th>\n",
       "      <th>ever_married</th>\n",
       "      <th>work_type</th>\n",
       "      <th>Residence_type</th>\n",
       "      <th>avg_glucose_level</th>\n",
       "      <th>bmi</th>\n",
       "      <th>smoking_status</th>\n",
       "      <th>stroke</th>\n",
       "    </tr>\n",
       "  </thead>\n",
       "  <tbody>\n",
       "    <tr>\n",
       "      <th>0</th>\n",
       "      <td>30669</td>\n",
       "      <td>Male</td>\n",
       "      <td>3.0</td>\n",
       "      <td>0</td>\n",
       "      <td>0</td>\n",
       "      <td>No</td>\n",
       "      <td>children</td>\n",
       "      <td>Rural</td>\n",
       "      <td>95.12</td>\n",
       "      <td>18.0</td>\n",
       "      <td>NaN</td>\n",
       "      <td>0</td>\n",
       "    </tr>\n",
       "    <tr>\n",
       "      <th>1</th>\n",
       "      <td>30468</td>\n",
       "      <td>Male</td>\n",
       "      <td>58.0</td>\n",
       "      <td>1</td>\n",
       "      <td>0</td>\n",
       "      <td>Yes</td>\n",
       "      <td>Private</td>\n",
       "      <td>Urban</td>\n",
       "      <td>87.96</td>\n",
       "      <td>39.2</td>\n",
       "      <td>never smoked</td>\n",
       "      <td>0</td>\n",
       "    </tr>\n",
       "    <tr>\n",
       "      <th>2</th>\n",
       "      <td>16523</td>\n",
       "      <td>Female</td>\n",
       "      <td>8.0</td>\n",
       "      <td>0</td>\n",
       "      <td>0</td>\n",
       "      <td>No</td>\n",
       "      <td>Private</td>\n",
       "      <td>Urban</td>\n",
       "      <td>110.89</td>\n",
       "      <td>17.6</td>\n",
       "      <td>NaN</td>\n",
       "      <td>0</td>\n",
       "    </tr>\n",
       "    <tr>\n",
       "      <th>3</th>\n",
       "      <td>56543</td>\n",
       "      <td>Female</td>\n",
       "      <td>70.0</td>\n",
       "      <td>0</td>\n",
       "      <td>0</td>\n",
       "      <td>Yes</td>\n",
       "      <td>Private</td>\n",
       "      <td>Rural</td>\n",
       "      <td>69.04</td>\n",
       "      <td>35.9</td>\n",
       "      <td>formerly smoked</td>\n",
       "      <td>0</td>\n",
       "    </tr>\n",
       "    <tr>\n",
       "      <th>4</th>\n",
       "      <td>46136</td>\n",
       "      <td>Male</td>\n",
       "      <td>14.0</td>\n",
       "      <td>0</td>\n",
       "      <td>0</td>\n",
       "      <td>No</td>\n",
       "      <td>Never_worked</td>\n",
       "      <td>Rural</td>\n",
       "      <td>161.28</td>\n",
       "      <td>19.1</td>\n",
       "      <td>NaN</td>\n",
       "      <td>0</td>\n",
       "    </tr>\n",
       "  </tbody>\n",
       "</table>\n",
       "</div>"
      ],
      "text/plain": [
       "      id  gender   age  hypertension  heart_disease ever_married  \\\n",
       "0  30669    Male   3.0             0              0           No   \n",
       "1  30468    Male  58.0             1              0          Yes   \n",
       "2  16523  Female   8.0             0              0           No   \n",
       "3  56543  Female  70.0             0              0          Yes   \n",
       "4  46136    Male  14.0             0              0           No   \n",
       "\n",
       "      work_type Residence_type  avg_glucose_level   bmi   smoking_status  \\\n",
       "0      children          Rural              95.12  18.0              NaN   \n",
       "1       Private          Urban              87.96  39.2     never smoked   \n",
       "2       Private          Urban             110.89  17.6              NaN   \n",
       "3       Private          Rural              69.04  35.9  formerly smoked   \n",
       "4  Never_worked          Rural             161.28  19.1              NaN   \n",
       "\n",
       "   stroke  \n",
       "0       0  \n",
       "1       0  \n",
       "2       0  \n",
       "3       0  \n",
       "4       0  "
      ]
     },
     "execution_count": 42,
     "metadata": {},
     "output_type": "execute_result"
    }
   ],
   "source": [
    "dataset= pd.read_csv(\"stroke prediction.csv\")\n",
    "dataset.head()"
   ]
  },
  {
   "cell_type": "code",
   "execution_count": 43,
   "metadata": {},
   "outputs": [],
   "source": [
    "dataset.drop(columns=[\"id\",\"Residence_type\"],inplace=True)"
   ]
  },
  {
   "cell_type": "code",
   "execution_count": 44,
   "metadata": {},
   "outputs": [],
   "source": [
    "dataset[\"gender\"]=dataset[\"gender\"].astype('category')\n",
    "dataset[\"ever_married\"]=dataset[\"ever_married\"].astype('category')\n",
    "# dataset[\"Residence_type\"]=dataset[\"Residence_type\"].astype('category')\n",
    "dataset[\"work_type\"]=dataset[\"work_type\"].astype('category')\n",
    "dataset[\"smoking_status\"]=dataset.smoking_status.astype(\"category\")"
   ]
  },
  {
   "cell_type": "code",
   "execution_count": 45,
   "metadata": {},
   "outputs": [],
   "source": [
    "dataset_imputed=dataset.copy()"
   ]
  },
  {
   "cell_type": "code",
   "execution_count": 46,
   "metadata": {},
   "outputs": [
    {
     "data": {
      "text/plain": [
       "gender               category\n",
       "age                   float64\n",
       "hypertension            int64\n",
       "heart_disease           int64\n",
       "ever_married         category\n",
       "work_type            category\n",
       "avg_glucose_level     float64\n",
       "bmi                   float64\n",
       "smoking_status       category\n",
       "stroke                  int64\n",
       "dtype: object"
      ]
     },
     "execution_count": 46,
     "metadata": {},
     "output_type": "execute_result"
    }
   ],
   "source": [
    "dataset_imputed.dtypes"
   ]
  },
  {
   "cell_type": "code",
   "execution_count": 47,
   "metadata": {},
   "outputs": [],
   "source": [
    "from sklearn.preprocessing import LabelEncoder\n",
    "\n",
    "encoder=LabelEncoder()\n",
    "\n",
    "dataset_imputed.gender=encoder.fit_transform(dataset_imputed.gender)\n",
    "\n",
    "dataset_imputed.ever_married=encoder.fit_transform(dataset_imputed.ever_married)\n",
    "\n",
    "dataset_imputed.work_type=encoder.fit_transform(dataset_imputed.work_type)\n",
    "\n",
    "# dataset_imputed.Residence_type=encoder.fit_transform(dataset_imputed.Residence_type)\n",
    "\n",
    "dataset_imputed.smoking_status=dataset_imputed.smoking_status.map({'never smoked':0,'formerly smoked':1,'smokes':2})"
   ]
  },
  {
   "cell_type": "code",
   "execution_count": 48,
   "metadata": {},
   "outputs": [],
   "source": [
    "X=dataset_imputed.drop(columns=\"stroke\",axis=1)\n",
    "y=dataset_imputed[\"stroke\"]\n",
    "\n",
    "from sklearn.model_selection import train_test_split\n",
    "\n",
    "X_train,X_test,y_train,y_test= train_test_split(X,y,test_size=0.2,random_state=88,stratify=y)"
   ]
  },
  {
   "cell_type": "code",
   "execution_count": 49,
   "metadata": {},
   "outputs": [],
   "source": [
    "from sklearn.impute import KNNImputer\n",
    "\n",
    "imputer=KNNImputer()\n",
    "\n",
    "X_trimputed=pd.DataFrame(imputer.fit_transform(X_train),columns=X_train.columns)\n",
    "\n",
    "X_teimputed=pd.DataFrame(imputer.transform(X_test),columns=X_test.columns)"
   ]
  },
  {
   "cell_type": "code",
   "execution_count": 50,
   "metadata": {},
   "outputs": [],
   "source": [
    "X_trimputed[\"smoking_status\"]=X_trimputed[\"smoking_status\"].apply(round)\n",
    "X_trimputed[\"smoking_status\"].value_counts()\n",
    "\n",
    "X_trimputed[\"smoking_status\"]=X_trimputed[\"smoking_status\"].astype('category')\n",
    "X_trimputed[\"work_type\"]=X_trimputed[\"work_type\"].apply(int)\n",
    "X_trimputed[\"work_type\"]=X_trimputed[\"work_type\"].astype('category')"
   ]
  },
  {
   "cell_type": "code",
   "execution_count": 51,
   "metadata": {},
   "outputs": [],
   "source": [
    "X_teimputed[\"smoking_status\"]=X_teimputed[\"smoking_status\"].apply(round)\n",
    "X_teimputed[\"smoking_status\"].value_counts()\n",
    "\n",
    "X_teimputed[\"smoking_status\"]=X_teimputed[\"smoking_status\"].astype('category')\n",
    "X_teimputed[\"work_type\"]=X_teimputed[\"work_type\"].apply(int)\n",
    "X_teimputed[\"work_type\"]=X_teimputed[\"work_type\"].astype('category')"
   ]
  },
  {
   "cell_type": "code",
   "execution_count": 54,
   "metadata": {},
   "outputs": [],
   "source": [
    "X_trimputed[\"gender\"]=X_trimputed[\"gender\"].astype(\"category\")\n",
    "X_trimputed[[\"hypertension\",\"heart_disease\",\"ever_married\"]]=X_trimputed[[\"hypertension\",\"heart_disease\",\"ever_married\"]].astype(\"int\")\n",
    "\n",
    "X_teimputed[\"gender\"]=X_teimputed[\"gender\"].astype(\"category\")\n",
    "X_teimputed[[\"hypertension\",\"heart_disease\",\"ever_married\"]]=X_teimputed[[\"hypertension\",\"heart_disease\",\"ever_married\"]].astype(\"int\")"
   ]
  },
  {
   "cell_type": "code",
   "execution_count": 56,
   "metadata": {},
   "outputs": [],
   "source": [
    "X_trimputed=pd.get_dummies(X_trimputed,drop_first=True)\n",
    "X_teimputed=pd.get_dummies(X_teimputed,drop_first=True)"
   ]
  },
  {
   "cell_type": "code",
   "execution_count": 57,
   "metadata": {},
   "outputs": [
    {
     "data": {
      "text/html": [
       "<div>\n",
       "<style scoped>\n",
       "    .dataframe tbody tr th:only-of-type {\n",
       "        vertical-align: middle;\n",
       "    }\n",
       "\n",
       "    .dataframe tbody tr th {\n",
       "        vertical-align: top;\n",
       "    }\n",
       "\n",
       "    .dataframe thead th {\n",
       "        text-align: right;\n",
       "    }\n",
       "</style>\n",
       "<table border=\"1\" class=\"dataframe\">\n",
       "  <thead>\n",
       "    <tr style=\"text-align: right;\">\n",
       "      <th></th>\n",
       "      <th>age</th>\n",
       "      <th>hypertension</th>\n",
       "      <th>heart_disease</th>\n",
       "      <th>ever_married</th>\n",
       "      <th>avg_glucose_level</th>\n",
       "      <th>bmi</th>\n",
       "      <th>gender_1.0</th>\n",
       "      <th>gender_2.0</th>\n",
       "      <th>work_type_1</th>\n",
       "      <th>work_type_2</th>\n",
       "      <th>work_type_3</th>\n",
       "      <th>work_type_4</th>\n",
       "      <th>smoking_status_1</th>\n",
       "      <th>smoking_status_2</th>\n",
       "    </tr>\n",
       "  </thead>\n",
       "  <tbody>\n",
       "    <tr>\n",
       "      <th>0</th>\n",
       "      <td>4.0</td>\n",
       "      <td>0</td>\n",
       "      <td>0</td>\n",
       "      <td>0</td>\n",
       "      <td>136.51</td>\n",
       "      <td>17.1</td>\n",
       "      <td>1</td>\n",
       "      <td>0</td>\n",
       "      <td>0</td>\n",
       "      <td>0</td>\n",
       "      <td>0</td>\n",
       "      <td>1</td>\n",
       "      <td>0</td>\n",
       "      <td>0</td>\n",
       "    </tr>\n",
       "    <tr>\n",
       "      <th>1</th>\n",
       "      <td>9.0</td>\n",
       "      <td>0</td>\n",
       "      <td>0</td>\n",
       "      <td>0</td>\n",
       "      <td>90.55</td>\n",
       "      <td>27.3</td>\n",
       "      <td>1</td>\n",
       "      <td>0</td>\n",
       "      <td>0</td>\n",
       "      <td>0</td>\n",
       "      <td>0</td>\n",
       "      <td>1</td>\n",
       "      <td>0</td>\n",
       "      <td>0</td>\n",
       "    </tr>\n",
       "    <tr>\n",
       "      <th>2</th>\n",
       "      <td>29.0</td>\n",
       "      <td>0</td>\n",
       "      <td>0</td>\n",
       "      <td>1</td>\n",
       "      <td>108.69</td>\n",
       "      <td>29.6</td>\n",
       "      <td>1</td>\n",
       "      <td>0</td>\n",
       "      <td>0</td>\n",
       "      <td>1</td>\n",
       "      <td>0</td>\n",
       "      <td>0</td>\n",
       "      <td>0</td>\n",
       "      <td>0</td>\n",
       "    </tr>\n",
       "    <tr>\n",
       "      <th>3</th>\n",
       "      <td>63.0</td>\n",
       "      <td>0</td>\n",
       "      <td>0</td>\n",
       "      <td>1</td>\n",
       "      <td>84.57</td>\n",
       "      <td>31.2</td>\n",
       "      <td>1</td>\n",
       "      <td>0</td>\n",
       "      <td>0</td>\n",
       "      <td>1</td>\n",
       "      <td>0</td>\n",
       "      <td>0</td>\n",
       "      <td>1</td>\n",
       "      <td>0</td>\n",
       "    </tr>\n",
       "    <tr>\n",
       "      <th>4</th>\n",
       "      <td>67.0</td>\n",
       "      <td>0</td>\n",
       "      <td>0</td>\n",
       "      <td>1</td>\n",
       "      <td>70.43</td>\n",
       "      <td>26.3</td>\n",
       "      <td>0</td>\n",
       "      <td>0</td>\n",
       "      <td>0</td>\n",
       "      <td>0</td>\n",
       "      <td>1</td>\n",
       "      <td>0</td>\n",
       "      <td>0</td>\n",
       "      <td>0</td>\n",
       "    </tr>\n",
       "    <tr>\n",
       "      <th>...</th>\n",
       "      <td>...</td>\n",
       "      <td>...</td>\n",
       "      <td>...</td>\n",
       "      <td>...</td>\n",
       "      <td>...</td>\n",
       "      <td>...</td>\n",
       "      <td>...</td>\n",
       "      <td>...</td>\n",
       "      <td>...</td>\n",
       "      <td>...</td>\n",
       "      <td>...</td>\n",
       "      <td>...</td>\n",
       "      <td>...</td>\n",
       "      <td>...</td>\n",
       "    </tr>\n",
       "    <tr>\n",
       "      <th>34715</th>\n",
       "      <td>62.0</td>\n",
       "      <td>0</td>\n",
       "      <td>0</td>\n",
       "      <td>1</td>\n",
       "      <td>58.90</td>\n",
       "      <td>29.1</td>\n",
       "      <td>0</td>\n",
       "      <td>0</td>\n",
       "      <td>0</td>\n",
       "      <td>1</td>\n",
       "      <td>0</td>\n",
       "      <td>0</td>\n",
       "      <td>1</td>\n",
       "      <td>0</td>\n",
       "    </tr>\n",
       "    <tr>\n",
       "      <th>34716</th>\n",
       "      <td>43.0</td>\n",
       "      <td>0</td>\n",
       "      <td>0</td>\n",
       "      <td>0</td>\n",
       "      <td>94.82</td>\n",
       "      <td>29.7</td>\n",
       "      <td>0</td>\n",
       "      <td>0</td>\n",
       "      <td>0</td>\n",
       "      <td>0</td>\n",
       "      <td>0</td>\n",
       "      <td>0</td>\n",
       "      <td>0</td>\n",
       "      <td>0</td>\n",
       "    </tr>\n",
       "    <tr>\n",
       "      <th>34717</th>\n",
       "      <td>23.0</td>\n",
       "      <td>0</td>\n",
       "      <td>0</td>\n",
       "      <td>0</td>\n",
       "      <td>98.66</td>\n",
       "      <td>28.3</td>\n",
       "      <td>0</td>\n",
       "      <td>0</td>\n",
       "      <td>0</td>\n",
       "      <td>1</td>\n",
       "      <td>0</td>\n",
       "      <td>0</td>\n",
       "      <td>0</td>\n",
       "      <td>0</td>\n",
       "    </tr>\n",
       "    <tr>\n",
       "      <th>34718</th>\n",
       "      <td>9.0</td>\n",
       "      <td>0</td>\n",
       "      <td>0</td>\n",
       "      <td>0</td>\n",
       "      <td>150.00</td>\n",
       "      <td>17.4</td>\n",
       "      <td>1</td>\n",
       "      <td>0</td>\n",
       "      <td>0</td>\n",
       "      <td>0</td>\n",
       "      <td>0</td>\n",
       "      <td>1</td>\n",
       "      <td>0</td>\n",
       "      <td>0</td>\n",
       "    </tr>\n",
       "    <tr>\n",
       "      <th>34719</th>\n",
       "      <td>31.0</td>\n",
       "      <td>0</td>\n",
       "      <td>0</td>\n",
       "      <td>1</td>\n",
       "      <td>77.38</td>\n",
       "      <td>39.6</td>\n",
       "      <td>0</td>\n",
       "      <td>0</td>\n",
       "      <td>0</td>\n",
       "      <td>0</td>\n",
       "      <td>1</td>\n",
       "      <td>0</td>\n",
       "      <td>0</td>\n",
       "      <td>0</td>\n",
       "    </tr>\n",
       "  </tbody>\n",
       "</table>\n",
       "<p>34720 rows × 14 columns</p>\n",
       "</div>"
      ],
      "text/plain": [
       "        age  hypertension  heart_disease  ever_married  avg_glucose_level  \\\n",
       "0       4.0             0              0             0             136.51   \n",
       "1       9.0             0              0             0              90.55   \n",
       "2      29.0             0              0             1             108.69   \n",
       "3      63.0             0              0             1              84.57   \n",
       "4      67.0             0              0             1              70.43   \n",
       "...     ...           ...            ...           ...                ...   \n",
       "34715  62.0             0              0             1              58.90   \n",
       "34716  43.0             0              0             0              94.82   \n",
       "34717  23.0             0              0             0              98.66   \n",
       "34718   9.0             0              0             0             150.00   \n",
       "34719  31.0             0              0             1              77.38   \n",
       "\n",
       "        bmi  gender_1.0  gender_2.0  work_type_1  work_type_2  work_type_3  \\\n",
       "0      17.1           1           0            0            0            0   \n",
       "1      27.3           1           0            0            0            0   \n",
       "2      29.6           1           0            0            1            0   \n",
       "3      31.2           1           0            0            1            0   \n",
       "4      26.3           0           0            0            0            1   \n",
       "...     ...         ...         ...          ...          ...          ...   \n",
       "34715  29.1           0           0            0            1            0   \n",
       "34716  29.7           0           0            0            0            0   \n",
       "34717  28.3           0           0            0            1            0   \n",
       "34718  17.4           1           0            0            0            0   \n",
       "34719  39.6           0           0            0            0            1   \n",
       "\n",
       "       work_type_4  smoking_status_1  smoking_status_2  \n",
       "0                1                 0                 0  \n",
       "1                1                 0                 0  \n",
       "2                0                 0                 0  \n",
       "3                0                 1                 0  \n",
       "4                0                 0                 0  \n",
       "...            ...               ...               ...  \n",
       "34715            0                 1                 0  \n",
       "34716            0                 0                 0  \n",
       "34717            0                 0                 0  \n",
       "34718            1                 0                 0  \n",
       "34719            0                 0                 0  \n",
       "\n",
       "[34720 rows x 14 columns]"
      ]
     },
     "execution_count": 57,
     "metadata": {},
     "output_type": "execute_result"
    }
   ],
   "source": [
    "X_trimputed"
   ]
  },
  {
   "cell_type": "code",
   "execution_count": 59,
   "metadata": {},
   "outputs": [],
   "source": [
    "from sklearn.preprocessing import MinMaxScaler\n",
    "\n",
    "scaler=MinMaxScaler()\n",
    "\n",
    "scaler.fit(X_trimputed)\n",
    "\n",
    "X_trimputed=pd.DataFrame(scaler.transform(X_trimputed),columns=X_trimputed.columns)\n",
    "\n",
    "X_teimputed=pd.DataFrame(scaler.transform(X_teimputed),columns=X_teimputed.columns)"
   ]
  },
  {
   "cell_type": "code",
   "execution_count": 62,
   "metadata": {},
   "outputs": [
    {
     "data": {
      "text/html": [
       "<div>\n",
       "<style scoped>\n",
       "    .dataframe tbody tr th:only-of-type {\n",
       "        vertical-align: middle;\n",
       "    }\n",
       "\n",
       "    .dataframe tbody tr th {\n",
       "        vertical-align: top;\n",
       "    }\n",
       "\n",
       "    .dataframe thead th {\n",
       "        text-align: right;\n",
       "    }\n",
       "</style>\n",
       "<table border=\"1\" class=\"dataframe\">\n",
       "  <thead>\n",
       "    <tr style=\"text-align: right;\">\n",
       "      <th></th>\n",
       "      <th>age</th>\n",
       "      <th>hypertension</th>\n",
       "      <th>heart_disease</th>\n",
       "      <th>ever_married</th>\n",
       "      <th>avg_glucose_level</th>\n",
       "      <th>bmi</th>\n",
       "      <th>gender_1.0</th>\n",
       "      <th>gender_2.0</th>\n",
       "      <th>work_type_1</th>\n",
       "      <th>work_type_2</th>\n",
       "      <th>work_type_3</th>\n",
       "      <th>work_type_4</th>\n",
       "      <th>smoking_status_1</th>\n",
       "      <th>smoking_status_2</th>\n",
       "    </tr>\n",
       "  </thead>\n",
       "  <tbody>\n",
       "    <tr>\n",
       "      <th>0</th>\n",
       "      <td>0.047852</td>\n",
       "      <td>0.0</td>\n",
       "      <td>0.0</td>\n",
       "      <td>0.0</td>\n",
       "      <td>0.345280</td>\n",
       "      <td>0.080000</td>\n",
       "      <td>1.0</td>\n",
       "      <td>0.0</td>\n",
       "      <td>0.0</td>\n",
       "      <td>0.0</td>\n",
       "      <td>0.0</td>\n",
       "      <td>1.0</td>\n",
       "      <td>0.0</td>\n",
       "      <td>0.0</td>\n",
       "    </tr>\n",
       "    <tr>\n",
       "      <th>1</th>\n",
       "      <td>0.108887</td>\n",
       "      <td>0.0</td>\n",
       "      <td>0.0</td>\n",
       "      <td>0.0</td>\n",
       "      <td>0.150568</td>\n",
       "      <td>0.196571</td>\n",
       "      <td>1.0</td>\n",
       "      <td>0.0</td>\n",
       "      <td>0.0</td>\n",
       "      <td>0.0</td>\n",
       "      <td>0.0</td>\n",
       "      <td>1.0</td>\n",
       "      <td>0.0</td>\n",
       "      <td>0.0</td>\n",
       "    </tr>\n",
       "  </tbody>\n",
       "</table>\n",
       "</div>"
      ],
      "text/plain": [
       "        age  hypertension  heart_disease  ever_married  avg_glucose_level  \\\n",
       "0  0.047852           0.0            0.0           0.0           0.345280   \n",
       "1  0.108887           0.0            0.0           0.0           0.150568   \n",
       "\n",
       "        bmi  gender_1.0  gender_2.0  work_type_1  work_type_2  work_type_3  \\\n",
       "0  0.080000         1.0         0.0          0.0          0.0          0.0   \n",
       "1  0.196571         1.0         0.0          0.0          0.0          0.0   \n",
       "\n",
       "   work_type_4  smoking_status_1  smoking_status_2  \n",
       "0          1.0               0.0               0.0  \n",
       "1          1.0               0.0               0.0  "
      ]
     },
     "execution_count": 62,
     "metadata": {},
     "output_type": "execute_result"
    }
   ],
   "source": [
    "X_trimputed.head(2)"
   ]
  },
  {
   "cell_type": "markdown",
   "metadata": {},
   "source": [
    "## Logistic Regression"
   ]
  },
  {
   "cell_type": "code",
   "execution_count": 118,
   "metadata": {},
   "outputs": [],
   "source": [
    "from sklearn.linear_model import LogisticRegression\n",
    "from sklearn.metrics import classification_report as rep\n",
    "from sklearn.metrics import f1_score"
   ]
  },
  {
   "cell_type": "code",
   "execution_count": 119,
   "metadata": {},
   "outputs": [],
   "source": [
    "logreg=LogisticRegression()\n",
    "\n",
    "logreg.fit(X_trimputed,y_train)\n",
    "y_train_pred=logreg.predict(X_trimputed)\n",
    "\n",
    "y_test_pred=logreg.predict(X_teimputed)"
   ]
  },
  {
   "cell_type": "code",
   "execution_count": 120,
   "metadata": {},
   "outputs": [
    {
     "name": "stdout",
     "output_type": "stream",
     "text": [
      "Train Report\n",
      "              precision    recall  f1-score   support\n",
      "\n",
      "           0       0.98      1.00      0.99     34094\n",
      "           1       0.00      0.00      0.00       626\n",
      "\n",
      "    accuracy                           0.98     34720\n",
      "   macro avg       0.49      0.50      0.50     34720\n",
      "weighted avg       0.96      0.98      0.97     34720\n",
      "\n",
      "Test Report\n",
      "              precision    recall  f1-score   support\n",
      "\n",
      "           0       0.98      1.00      0.99      8523\n",
      "           1       0.00      0.00      0.00       157\n",
      "\n",
      "    accuracy                           0.98      8680\n",
      "   macro avg       0.49      0.50      0.50      8680\n",
      "weighted avg       0.96      0.98      0.97      8680\n",
      "\n"
     ]
    },
    {
     "name": "stderr",
     "output_type": "stream",
     "text": [
      "C:\\ProgramData\\Anaconda3\\lib\\site-packages\\sklearn\\metrics\\_classification.py:1272: UndefinedMetricWarning: Precision and F-score are ill-defined and being set to 0.0 in labels with no predicted samples. Use `zero_division` parameter to control this behavior.\n",
      "  _warn_prf(average, modifier, msg_start, len(result))\n"
     ]
    }
   ],
   "source": [
    "print(\"Train Report\")\n",
    "\n",
    "print(rep(y_train, y_train_pred))\n",
    "\n",
    "print(\"Test Report\")\n",
    "\n",
    "print(rep(y_test, y_test_pred))"
   ]
  },
  {
   "cell_type": "markdown",
   "metadata": {},
   "source": [
    "**This is behaving as a dumb model, all the values are being predicted as 0**"
   ]
  },
  {
   "cell_type": "code",
   "execution_count": 121,
   "metadata": {},
   "outputs": [
    {
     "data": {
      "text/plain": [
       "array([0.04182998, 0.00670357, 0.01573857, ..., 0.00361589, 0.01125902,\n",
       "       0.00872016])"
      ]
     },
     "execution_count": 121,
     "metadata": {},
     "output_type": "execute_result"
    }
   ],
   "source": [
    "y_train_prob=logreg.predict_proba(X_trimputed)[:,1]\n",
    "y_train_prob\n",
    "\n",
    "y_test_prob=logreg.predict_proba(X_teimputed)[:,1]\n",
    "y_test_prob\n"
   ]
  },
  {
   "cell_type": "code",
   "execution_count": 122,
   "metadata": {},
   "outputs": [
    {
     "name": "stdout",
     "output_type": "stream",
     "text": [
      "              precision    recall  f1-score   support\n",
      "\n",
      "           0       0.99      0.95      0.97     34094\n",
      "           1       0.10      0.33      0.15       626\n",
      "\n",
      "    accuracy                           0.93     34720\n",
      "   macro avg       0.54      0.64      0.56     34720\n",
      "weighted avg       0.97      0.93      0.95     34720\n",
      "\n"
     ]
    }
   ],
   "source": [
    "y_train_pred = list(map( lambda x: 1 if x>0.07 else 0, y_train_prob))\n",
    "\n",
    "print(rep(y_train, y_train_pred))"
   ]
  },
  {
   "cell_type": "code",
   "execution_count": 123,
   "metadata": {},
   "outputs": [
    {
     "name": "stdout",
     "output_type": "stream",
     "text": [
      "              precision    recall  f1-score   support\n",
      "\n",
      "           0       0.99      0.94      0.97      8523\n",
      "           1       0.10      0.35      0.16       157\n",
      "\n",
      "    accuracy                           0.93      8680\n",
      "   macro avg       0.55      0.65      0.56      8680\n",
      "weighted avg       0.97      0.93      0.95      8680\n",
      "\n"
     ]
    }
   ],
   "source": [
    "y_test_pred = list(map( lambda x: 1 if x>0.07 else 0, y_test_prob))\n",
    "\n",
    "print(rep(y_test, y_test_pred))"
   ]
  },
  {
   "cell_type": "markdown",
   "metadata": {},
   "source": [
    "**Our Predicted Probabilities are coming out to be nearly 0 for the Minor Class**"
   ]
  },
  {
   "cell_type": "markdown",
   "metadata": {},
   "source": [
    "**The Model is Underfitting our Data, hence there is High Bias and Low Variance**"
   ]
  },
  {
   "cell_type": "markdown",
   "metadata": {},
   "source": [
    "## Logistic Regression (Weight Balanced)"
   ]
  },
  {
   "cell_type": "code",
   "execution_count": 124,
   "metadata": {},
   "outputs": [],
   "source": [
    "logreg=LogisticRegression(class_weight = 'balanced')\n",
    "\n",
    "logreg.fit(X_trimputed,y_train)\n",
    "y_train_pred=logreg.predict(X_trimputed)\n",
    "\n",
    "y_test_pred=logreg.predict(X_teimputed)"
   ]
  },
  {
   "cell_type": "code",
   "execution_count": 125,
   "metadata": {},
   "outputs": [
    {
     "name": "stdout",
     "output_type": "stream",
     "text": [
      "Train Report\n",
      "              precision    recall  f1-score   support\n",
      "\n",
      "           0       1.00      0.74      0.85     34094\n",
      "           1       0.05      0.82      0.10       626\n",
      "\n",
      "    accuracy                           0.74     34720\n",
      "   macro avg       0.53      0.78      0.47     34720\n",
      "weighted avg       0.98      0.74      0.83     34720\n",
      "\n",
      "Test Report\n",
      "              precision    recall  f1-score   support\n",
      "\n",
      "           0       1.00      0.74      0.85      8523\n",
      "           1       0.05      0.83      0.10       157\n",
      "\n",
      "    accuracy                           0.74      8680\n",
      "   macro avg       0.53      0.78      0.47      8680\n",
      "weighted avg       0.98      0.74      0.83      8680\n",
      "\n"
     ]
    }
   ],
   "source": [
    "print(\"Train Report\")\n",
    "\n",
    "print(rep(y_train, y_train_pred))\n",
    "\n",
    "print(\"Test Report\")\n",
    "\n",
    "print(rep(y_test, y_test_pred))"
   ]
  },
  {
   "cell_type": "markdown",
   "metadata": {},
   "source": [
    "**This is behaving as a dumb model, all the values are being predicted as 0**"
   ]
  },
  {
   "cell_type": "code",
   "execution_count": 126,
   "metadata": {},
   "outputs": [
    {
     "data": {
      "text/plain": [
       "array([0.70439085, 0.20426914, 0.44244751, ..., 0.11896566, 0.38399405,\n",
       "       0.29028772])"
      ]
     },
     "execution_count": 126,
     "metadata": {},
     "output_type": "execute_result"
    }
   ],
   "source": [
    "y_train_prob=logreg.predict_proba(X_trimputed)[:,1]\n",
    "y_train_prob\n",
    "\n",
    "y_test_prob=logreg.predict_proba(X_teimputed)[:,1]\n",
    "y_test_prob\n"
   ]
  },
  {
   "cell_type": "code",
   "execution_count": 127,
   "metadata": {},
   "outputs": [
    {
     "data": {
      "text/plain": [
       "<matplotlib.axes._subplots.AxesSubplot at 0x17a77ff3f48>"
      ]
     },
     "execution_count": 127,
     "metadata": {},
     "output_type": "execute_result"
    },
    {
     "data": {
      "image/png": "[encoded data removed]",
      "text/plain": [
       "<Figure size 432x288 with 1 Axes>"
      ]
     },
     "metadata": {
      "needs_background": "light"
     },
     "output_type": "display_data"
    }
   ],
   "source": [
    "cutoffs=[]\n",
    "scores=[]\n",
    "for i in np.linspace(0.0,1.0,50):\n",
    "    predicted = list(map(lambda x: 1 if x>i else 0, y_train_prob))\n",
    "    \n",
    "    cutoffs.append(i)\n",
    "    scores.append(f1_score(y_train,predicted))\n",
    "    \n",
    "\n",
    "plt.ylim((0.0,0.2))    \n",
    "sns.lineplot(x=cutoffs,y=scores)"
   ]
  },
  {
   "cell_type": "code",
   "execution_count": 128,
   "metadata": {},
   "outputs": [
    {
     "data": {
      "text/plain": [
       "<matplotlib.axes._subplots.AxesSubplot at 0x17a7b528f08>"
      ]
     },
     "execution_count": 128,
     "metadata": {},
     "output_type": "execute_result"
    },
    {
     "data": {
      "image/png": "[encoded data removed]",
      "text/plain": [
       "<Figure size 432x288 with 1 Axes>"
      ]
     },
     "metadata": {
      "needs_background": "light"
     },
     "output_type": "display_data"
    }
   ],
   "source": [
    "cutoffs=[]\n",
    "scores=[]\n",
    "for i in np.linspace(0.0,1.0,50):\n",
    "    predicted = list(map(lambda x: 1 if x>i else 0, y_test_prob))\n",
    "    \n",
    "    cutoffs.append(i)\n",
    "    scores.append(f1_score(y_test,predicted))\n",
    "    \n",
    "\n",
    "plt.ylim((0.0,0.2))    \n",
    "sns.lineplot(x=cutoffs,y=scores)"
   ]
  },
  {
   "cell_type": "markdown",
   "metadata": {},
   "source": [
    "## KNN "
   ]
  },
  {
   "cell_type": "code",
   "execution_count": 96,
   "metadata": {},
   "outputs": [],
   "source": [
    "from sklearn.neighbors import KNeighborsClassifier as KNN"
   ]
  },
  {
   "cell_type": "code",
   "execution_count": 97,
   "metadata": {},
   "outputs": [],
   "source": [
    "from sklearn.model_selection import cross_val_score"
   ]
  },
  {
   "cell_type": "code",
   "execution_count": 98,
   "metadata": {},
   "outputs": [],
   "source": [
    "def val_score(n_neighbors):\n",
    "    \n",
    "    avg=[]\n",
    "    std=[]\n",
    "    \n",
    "    \n",
    "    for i in n_neighbors:\n",
    "        score = cross_val_score(KNN(n_neighbors=i),scoring='f1',X=X_trimputed, y=y_train, cv=10)\n",
    "        \n",
    "        \n",
    "        avg.append(score.mean())\n",
    "        std.append(score.std())\n",
    "        \n",
    "    return avg,std"
   ]
  },
  {
   "cell_type": "code",
   "execution_count": 99,
   "metadata": {},
   "outputs": [],
   "source": [
    "n_neighbors = range(1,10)\n",
    "mean, std = val_score(n_neighbors)"
   ]
  },
  {
   "cell_type": "code",
   "execution_count": 130,
   "metadata": {},
   "outputs": [
    {
     "data": {
      "text/plain": [
       "<matplotlib.axes._subplots.AxesSubplot at 0x17a81b67908>"
      ]
     },
     "execution_count": 130,
     "metadata": {},
     "output_type": "execute_result"
    },
    {
     "data": {
      "image/png": "[encoded data removed]",
      "text/plain": [
       "<Figure size 432x288 with 2 Axes>"
      ]
     },
     "metadata": {
      "needs_background": "light"
     },
     "output_type": "display_data"
    }
   ],
   "source": [
    "fig,ax=plt.subplots(1,2,figsize=(14,7))\n",
    "\n",
    "sns.lineplot(y=mean,x=range(1,10),ax=ax[0])\n",
    "sns.lineplot(y=std,x=range(1,10),ax=ax[1])"
   ]
  },
  {
   "cell_type": "markdown",
   "metadata": {},
   "source": [
    "**Our Model is fitting well for only 3 nearest neighbours**"
   ]
  },
  {
   "cell_type": "code",
   "execution_count": 131,
   "metadata": {},
   "outputs": [
    {
     "data": {
      "text/plain": [
       "(0.20301783264746226, 0.08290155440414508)"
      ]
     },
     "execution_count": 131,
     "metadata": {},
     "output_type": "execute_result"
    }
   ],
   "source": [
    "classifier=KNN(n_neighbors=3)\n",
    "\n",
    "classifier.fit(X_trimputed,y_train)\n",
    "\n",
    "y_train_pred=classifier.predict(X_trimputed)\n",
    "y_test_pred=classifier.predict(X_teimputed)\n",
    "\n",
    "f1_score(y_train,y_train_pred),f1_score(y_test,y_test_pred)"
   ]
  },
  {
   "cell_type": "markdown",
   "metadata": {},
   "source": [
    "**Again, the F1 score is coming out to be very less. It is performing worse than Logistic Regression with a weight parameter**"
   ]
  },
  {
   "cell_type": "markdown",
   "metadata": {},
   "source": [
    "## Decision Tree"
   ]
  },
  {
   "cell_type": "code",
   "execution_count": 133,
   "metadata": {},
   "outputs": [],
   "source": [
    "from sklearn.tree import DecisionTreeClassifier"
   ]
  },
  {
   "cell_type": "code",
   "execution_count": 134,
   "metadata": {},
   "outputs": [],
   "source": [
    "classifier=DecisionTreeClassifier(random_state=40)\n",
    "\n",
    "classifier.fit(X_trimputed,y_train)\n",
    "\n",
    "y_train_pred = classifier.predict(X_trimputed)\n",
    "y_test_pred = classifier.predict(X_teimputed)"
   ]
  },
  {
   "cell_type": "code",
   "execution_count": 135,
   "metadata": {},
   "outputs": [
    {
     "name": "stdout",
     "output_type": "stream",
     "text": [
      "              precision    recall  f1-score   support\n",
      "\n",
      "           0       1.00      1.00      1.00     34094\n",
      "           1       1.00      1.00      1.00       626\n",
      "\n",
      "    accuracy                           1.00     34720\n",
      "   macro avg       1.00      1.00      1.00     34720\n",
      "weighted avg       1.00      1.00      1.00     34720\n",
      "\n"
     ]
    }
   ],
   "source": [
    "print(rep(y_train,y_train_pred))"
   ]
  },
  {
   "cell_type": "code",
   "execution_count": 136,
   "metadata": {},
   "outputs": [
    {
     "data": {
      "text/plain": [
       "(1.0, 0.07807807807807808)"
      ]
     },
     "execution_count": 136,
     "metadata": {},
     "output_type": "execute_result"
    }
   ],
   "source": [
    "f1_score(y_train,y_train_pred),f1_score(y_test,y_test_pred)"
   ]
  },
  {
   "cell_type": "markdown",
   "metadata": {},
   "source": [
    "**Decision Trees tend to overfit our data if they are not pruned. We can see that the train F1 scores are coming out to be 1.0 but the test is very less. There is High Variance and Low Bias in our Model.**"
   ]
  },
  {
   "cell_type": "code",
   "execution_count": 140,
   "metadata": {},
   "outputs": [
    {
     "data": {
      "text/plain": [
       "{'ccp_alphas': array([0.00000000e+00, 9.59702139e-06, 1.14896002e-05, 1.14927063e-05,\n",
       "        1.15096169e-05, 1.40496797e-05, 1.40736280e-05, 1.40945191e-05,\n",
       "        1.42971806e-05, 1.43310143e-05, 1.43560590e-05, 1.43622095e-05,\n",
       "        1.43712290e-05, 1.43741043e-05, 1.43855905e-05, 1.43895824e-05,\n",
       "        1.53609831e-05, 1.80354044e-05, 1.81344939e-05, 1.83284457e-05,\n",
       "        1.85154707e-05, 1.85154707e-05, 1.85275015e-05, 1.87088897e-05,\n",
       "        1.87088897e-05, 1.87211982e-05, 1.87211982e-05, 1.87329062e-05,\n",
       "        1.87440568e-05, 1.87494353e-05, 1.87648373e-05, 1.87926921e-05,\n",
       "        1.87926921e-05, 1.88247342e-05, 1.88643652e-05, 1.88757843e-05,\n",
       "        1.88757843e-05, 1.89146434e-05, 1.89307890e-05, 1.89307890e-05,\n",
       "        1.89641767e-05, 1.89779588e-05, 1.89830331e-05, 1.90209356e-05,\n",
       "        1.90313065e-05, 1.90342617e-05, 1.90546546e-05, 1.90579361e-05,\n",
       "        1.90773500e-05, 1.91037607e-05, 1.91181067e-05, 1.91276610e-05,\n",
       "        1.91333800e-05, 1.91352453e-05, 1.91465245e-05, 1.92012289e-05,\n",
       "        1.92012289e-05, 1.92012289e-05, 1.92012289e-05, 1.92012289e-05,\n",
       "        1.92012289e-05, 1.92012289e-05, 1.92012289e-05, 1.92012289e-05,\n",
       "        1.92138412e-05, 1.92140375e-05, 1.93901961e-05, 1.96316013e-05,\n",
       "        2.11938092e-05, 2.16013825e-05, 2.16013825e-05, 2.16013825e-05,\n",
       "        2.16851026e-05, 2.18287655e-05, 2.19838958e-05, 2.21719850e-05,\n",
       "        2.24526634e-05, 2.25415178e-05, 2.26511589e-05, 2.26568659e-05,\n",
       "        2.27622700e-05, 2.27882716e-05, 2.29364436e-05, 2.30414747e-05,\n",
       "        2.30414747e-05, 2.30414747e-05, 2.30414747e-05, 2.30414747e-05,\n",
       "        2.40015361e-05, 2.40015361e-05, 2.40342961e-05, 2.45190202e-05,\n",
       "        2.45386465e-05, 2.46415771e-05, 2.46730823e-05, 2.46872943e-05,\n",
       "        2.49615975e-05, 2.51499556e-05, 2.52016129e-05, 2.52016129e-05,\n",
       "        2.52016129e-05, 2.52016129e-05, 2.54133912e-05, 2.54976531e-05,\n",
       "        2.55016321e-05, 2.55856375e-05, 2.55985097e-05, 2.56016385e-05,\n",
       "        2.56016385e-05, 2.56016385e-05, 2.56016385e-05, 2.56016385e-05,\n",
       "        2.58223423e-05, 2.59216590e-05, 2.59216590e-05, 2.59833706e-05,\n",
       "        2.61834939e-05, 2.61834939e-05, 2.61834939e-05, 2.64016897e-05,\n",
       "        2.64289642e-05, 2.65260305e-05, 2.65280136e-05, 2.65863169e-05,\n",
       "        2.66661631e-05, 2.66774285e-05, 2.67445688e-05, 2.67445688e-05,\n",
       "        2.67445688e-05, 2.67445688e-05, 2.67445688e-05, 2.68252462e-05,\n",
       "        2.68817204e-05, 2.68817204e-05, 2.68817204e-05, 2.68817204e-05,\n",
       "        2.68817204e-05, 2.69830934e-05, 2.70188721e-05, 2.70562771e-05,\n",
       "        2.71076172e-05, 2.71202415e-05, 2.72017409e-05, 2.72017409e-05,\n",
       "        2.72859568e-05, 2.73505876e-05, 2.73617512e-05, 2.73617512e-05,\n",
       "        2.74013647e-05, 2.74303270e-05, 2.75495893e-05, 2.75554989e-05,\n",
       "        2.76017665e-05, 2.76017665e-05, 2.76017665e-05, 2.76497696e-05,\n",
       "        2.76571547e-05, 2.76766256e-05, 2.76821021e-05, 2.77512129e-05,\n",
       "        2.77539118e-05, 2.77724068e-05, 2.78086763e-05, 2.78168282e-05,\n",
       "        2.79110647e-05, 2.79789335e-05, 2.80439001e-05, 2.80633345e-05,\n",
       "        2.81160851e-05, 2.81205094e-05, 2.81472560e-05, 2.81523115e-05,\n",
       "        2.81618024e-05, 2.82371013e-05, 2.82684758e-05, 2.82875247e-05,\n",
       "        2.83009417e-05, 2.83218126e-05, 2.83218126e-05, 2.83356629e-05,\n",
       "        2.83903884e-05, 2.84582040e-05, 2.85279793e-05, 2.85611144e-05,\n",
       "        2.85819819e-05, 2.87272271e-05, 2.88018433e-05, 2.88018433e-05,\n",
       "        2.88018433e-05, 2.88018433e-05, 2.88018433e-05, 2.88018433e-05,\n",
       "        2.88018433e-05, 2.88018433e-05, 2.88018433e-05, 2.88018433e-05,\n",
       "        2.91297404e-05, 2.91666507e-05, 2.93288183e-05, 2.93618792e-05,\n",
       "        2.93674068e-05, 2.96087953e-05, 3.00108096e-05, 3.06100631e-05,\n",
       "        3.07219662e-05, 3.08024468e-05, 3.10127591e-05, 3.19035803e-05,\n",
       "        3.21690153e-05, 3.21951639e-05, 3.24633898e-05, 3.28776481e-05,\n",
       "        3.29163924e-05, 3.29893981e-05, 3.29958149e-05, 3.31544849e-05,\n",
       "        3.32656300e-05, 3.33614121e-05, 3.36021505e-05, 3.37476144e-05,\n",
       "        3.45622120e-05, 3.45622120e-05, 3.45773731e-05, 3.47630091e-05,\n",
       "        3.49889060e-05, 3.52309222e-05, 3.53486951e-05, 3.54222131e-05,\n",
       "        3.58067279e-05, 3.59673320e-05, 3.62903226e-05, 3.68669838e-05,\n",
       "        3.74542489e-05, 3.79022196e-05, 3.79660412e-05, 3.80298093e-05,\n",
       "        3.81138882e-05, 3.82360979e-05, 3.84024578e-05, 3.84024578e-05,\n",
       "        3.84024578e-05, 3.84024578e-05, 3.84024578e-05, 3.84024578e-05,\n",
       "        3.89829221e-05, 3.93773933e-05, 4.00546784e-05, 4.00601450e-05,\n",
       "        4.00880551e-05, 4.01480240e-05, 4.09626216e-05, 4.17892080e-05,\n",
       "        4.18805440e-05, 4.20217992e-05, 4.21984480e-05, 4.22129500e-05,\n",
       "        4.24172602e-05, 4.27401036e-05, 4.32027650e-05, 4.32027650e-05,\n",
       "        4.34044586e-05, 4.38885232e-05, 4.46388806e-05, 4.49641627e-05,\n",
       "        4.55833255e-05, 4.80030722e-05, 4.82905298e-05, 4.85762142e-05,\n",
       "        4.92033143e-05, 4.99063588e-05, 5.17031309e-05, 5.23424588e-05,\n",
       "        5.48356456e-05, 5.71965761e-05, 6.58446073e-05, 1.12737846e-04,\n",
       "        1.19183689e-04, 1.04761381e-03]),\n",
       " 'impurities': array([0.00000000e+00, 5.75821284e-05, 1.15030129e-04, 1.72493661e-04,\n",
       "        2.30041746e-04, 2.86240464e-04, 3.42534976e-04, 3.98913053e-04,\n",
       "        5.13290497e-04, 5.70614554e-04, 6.28038790e-04, 6.85487628e-04,\n",
       "        7.42972544e-04, 8.57965379e-04, 9.15507741e-04, 9.73066070e-04,\n",
       "        1.01914902e-03, 1.07325523e-03, 1.12765871e-03, 1.18264405e-03,\n",
       "        1.23819046e-03, 1.29373688e-03, 1.40490189e-03, 1.46102855e-03,\n",
       "        1.51715522e-03, 1.57331882e-03, 1.62948241e-03, 1.68568113e-03,\n",
       "        1.74191330e-03, 1.85440991e-03, 1.91070442e-03, 1.96708250e-03,\n",
       "        2.02346058e-03, 2.07993478e-03, 2.13652788e-03, 2.19315523e-03,\n",
       "        2.24978258e-03, 2.30652651e-03, 2.36331888e-03, 2.42011125e-03,\n",
       "        2.47700378e-03, 2.53393765e-03, 2.59088675e-03, 2.70501237e-03,\n",
       "        2.76210628e-03, 2.81920907e-03, 2.87637303e-03, 2.93354684e-03,\n",
       "        2.99077889e-03, 3.04809017e-03, 3.10544449e-03, 3.16282748e-03,\n",
       "        3.22022762e-03, 3.27763335e-03, 3.33507293e-03, 3.37347538e-03,\n",
       "        3.41187784e-03, 3.45028030e-03, 3.48868276e-03, 3.52708521e-03,\n",
       "        3.56548767e-03, 3.60389013e-03, 3.64229259e-03, 3.68069505e-03,\n",
       "        3.73833657e-03, 3.79597868e-03, 3.91231986e-03, 4.03010947e-03,\n",
       "        4.19965994e-03, 4.24286271e-03, 4.28606547e-03, 4.32926824e-03,\n",
       "        4.50274906e-03, 4.61189288e-03, 4.72181236e-03, 4.83267229e-03,\n",
       "        5.05719892e-03, 5.28261410e-03, 5.62238148e-03, 6.50599925e-03,\n",
       "        6.61981060e-03, 6.77932851e-03, 6.89401072e-03, 6.94009367e-03,\n",
       "        6.98617662e-03, 7.03225957e-03, 7.07834252e-03, 7.12442547e-03,\n",
       "        7.17242854e-03, 7.22043161e-03, 7.38867169e-03, 7.73193797e-03,\n",
       "        7.85463120e-03, 7.90391436e-03, 8.24933751e-03, 8.44683586e-03,\n",
       "        8.54668225e-03, 8.82333176e-03, 8.87373499e-03, 8.92413822e-03,\n",
       "        8.97454144e-03, 9.02494467e-03, 9.12659823e-03, 9.22858884e-03,\n",
       "        9.33059537e-03, 9.45852356e-03, 9.86809972e-03, 9.91930299e-03,\n",
       "        9.97050627e-03, 1.00217095e-02, 1.00729128e-02, 1.01241161e-02,\n",
       "        1.02790502e-02, 1.03308935e-02, 1.03827368e-02, 1.04866703e-02,\n",
       "        1.05390373e-02, 1.05914042e-02, 1.06437712e-02, 1.06965746e-02,\n",
       "        1.09080063e-02, 1.10141105e-02, 1.11732785e-02, 1.12796238e-02,\n",
       "        1.20796087e-02, 1.23197056e-02, 1.23731947e-02, 1.24801730e-02,\n",
       "        1.25336621e-02, 1.25871512e-02, 1.26406404e-02, 1.26942909e-02,\n",
       "        1.27480543e-02, 1.28018178e-02, 1.28555812e-02, 1.29093446e-02,\n",
       "        1.29631081e-02, 1.30170743e-02, 1.30711120e-02, 1.31793371e-02,\n",
       "        1.32335523e-02, 1.33420333e-02, 1.33964368e-02, 1.34508403e-02,\n",
       "        1.35599841e-02, 1.38334900e-02, 1.38882135e-02, 1.39976605e-02,\n",
       "        1.40524632e-02, 1.41073239e-02, 1.41624230e-02, 1.45206445e-02,\n",
       "        1.45758481e-02, 1.46310516e-02, 1.46862551e-02, 1.47415547e-02,\n",
       "        1.47968690e-02, 1.49629287e-02, 1.50182929e-02, 1.52403026e-02,\n",
       "        1.52958105e-02, 1.54624449e-02, 1.55180623e-02, 1.55736959e-02,\n",
       "        1.57411623e-02, 1.57971202e-02, 1.58532080e-02, 1.59093346e-02,\n",
       "        1.59655668e-02, 1.60218078e-02, 1.60781023e-02, 1.61344070e-02,\n",
       "        1.61907306e-02, 1.62472048e-02, 1.63602787e-02, 1.66997290e-02,\n",
       "        1.68129327e-02, 1.68695764e-02, 1.69262200e-02, 1.69828913e-02,\n",
       "        1.70396721e-02, 1.70965885e-02, 1.71536445e-02, 1.72678889e-02,\n",
       "        1.73250529e-02, 1.73825073e-02, 1.74113092e-02, 1.74401110e-02,\n",
       "        1.74689129e-02, 1.74977147e-02, 1.75265166e-02, 1.75553184e-02,\n",
       "        1.75841202e-02, 1.76129221e-02, 1.76417239e-02, 1.77569313e-02,\n",
       "        1.78151908e-02, 1.78735241e-02, 1.79908394e-02, 1.80789250e-02,\n",
       "        1.84019665e-02, 1.87276632e-02, 1.87876848e-02, 1.89713452e-02,\n",
       "        1.90020672e-02, 1.92792892e-02, 1.97134678e-02, 1.98729857e-02,\n",
       "        1.99694928e-02, 2.00338831e-02, 2.02611268e-02, 2.08200468e-02,\n",
       "        2.09187960e-02, 2.10837430e-02, 2.11497346e-02, 2.13155071e-02,\n",
       "        2.19475540e-02, 2.23145296e-02, 2.24489382e-02, 2.25501810e-02,\n",
       "        2.26193054e-02, 2.26884299e-02, 2.31725131e-02, 2.33810911e-02,\n",
       "        2.35910246e-02, 2.36967173e-02, 2.39088095e-02, 2.41921872e-02,\n",
       "        2.46218680e-02, 2.49455739e-02, 2.50544449e-02, 2.52756468e-02,\n",
       "        2.53880096e-02, 2.56154229e-02, 2.57672870e-02, 2.60334957e-02,\n",
       "        2.67576596e-02, 2.70253123e-02, 2.70637147e-02, 2.71405196e-02,\n",
       "        2.71789221e-02, 2.72557270e-02, 2.72941295e-02, 2.74477393e-02,\n",
       "        2.78375685e-02, 2.79950781e-02, 2.82354062e-02, 2.82754663e-02,\n",
       "        2.86362588e-02, 2.87165549e-02, 2.87575175e-02, 2.91754096e-02,\n",
       "        2.93848123e-02, 2.95108777e-02, 2.97640684e-02, 2.99329202e-02,\n",
       "        2.99753374e-02, 3.04027385e-02, 3.04891440e-02, 3.05323468e-02,\n",
       "        3.07927735e-02, 3.08366620e-02, 3.09705787e-02, 3.14651845e-02,\n",
       "        3.17842677e-02, 3.18322708e-02, 3.23634666e-02, 3.28978050e-02,\n",
       "        3.32422282e-02, 3.36414791e-02, 3.38999947e-02, 3.39523372e-02,\n",
       "        3.40071728e-02, 3.40643694e-02, 3.41302140e-02, 3.42429519e-02,\n",
       "        3.43621355e-02, 3.54097494e-02])}"
      ]
     },
     "execution_count": 140,
     "metadata": {},
     "output_type": "execute_result"
    }
   ],
   "source": [
    "path=classifier.cost_complexity_pruning_path(X_trimputed,y_train)\n",
    "path"
   ]
  },
  {
   "cell_type": "code",
   "execution_count": 141,
   "metadata": {},
   "outputs": [],
   "source": [
    "alphas,impurities=path.ccp_alphas,path.impurities"
   ]
  },
  {
   "cell_type": "code",
   "execution_count": 142,
   "metadata": {},
   "outputs": [],
   "source": [
    "train_f1=[]\n",
    "test_f1=[]\n",
    "\n",
    "for i in alphas:\n",
    "    classifier=DecisionTreeClassifier(ccp_alpha=i,random_state=40)\n",
    "\n",
    "    classifier.fit(X_trimputed,y_train)\n",
    "\n",
    "    y_train_pred = classifier.predict(X_trimputed)\n",
    "    y_test_pred = classifier.predict(X_teimputed)\n",
    "    \n",
    "    train_f1.append(f1_score(y_train,y_train_pred))\n",
    "    test_f1.append(f1_score(y_test,y_test_pred))"
   ]
  },
  {
   "cell_type": "code",
   "execution_count": 144,
   "metadata": {},
   "outputs": [
    {
     "data": {
      "text/plain": [
       "<matplotlib.axes._subplots.AxesSubplot at 0x17a81a4bcc8>"
      ]
     },
     "execution_count": 144,
     "metadata": {},
     "output_type": "execute_result"
    },
    {
     "data": {
      "image/png": "[encoded data removed]",
      "text/plain": [
       "<Figure size 1080x504 with 1 Axes>"
      ]
     },
     "metadata": {
      "needs_background": "light"
     },
     "output_type": "display_data"
    }
   ],
   "source": [
    "plt.figure(figsize=(15,7))\n",
    "\n",
    "sns.lineplot(y=train_f1,x=alphas,label=\"Train F1\")\n",
    "sns.lineplot(y=test_f1,x=alphas,label=\"Test F1\")"
   ]
  },
  {
   "cell_type": "code",
   "execution_count": 147,
   "metadata": {},
   "outputs": [
    {
     "data": {
      "text/html": [
       "<div>\n",
       "<style scoped>\n",
       "    .dataframe tbody tr th:only-of-type {\n",
       "        vertical-align: middle;\n",
       "    }\n",
       "\n",
       "    .dataframe tbody tr th {\n",
       "        vertical-align: top;\n",
       "    }\n",
       "\n",
       "    .dataframe thead th {\n",
       "        text-align: right;\n",
       "    }\n",
       "</style>\n",
       "<table border=\"1\" class=\"dataframe\">\n",
       "  <thead>\n",
       "    <tr style=\"text-align: right;\">\n",
       "      <th></th>\n",
       "      <th>alphas</th>\n",
       "      <th>train_f1</th>\n",
       "      <th>test_f1</th>\n",
       "    </tr>\n",
       "  </thead>\n",
       "  <tbody>\n",
       "    <tr>\n",
       "      <th>133</th>\n",
       "      <td>0.000027</td>\n",
       "      <td>0.768780</td>\n",
       "      <td>0.090566</td>\n",
       "    </tr>\n",
       "    <tr>\n",
       "      <th>134</th>\n",
       "      <td>0.000027</td>\n",
       "      <td>0.768780</td>\n",
       "      <td>0.090566</td>\n",
       "    </tr>\n",
       "    <tr>\n",
       "      <th>135</th>\n",
       "      <td>0.000027</td>\n",
       "      <td>0.768780</td>\n",
       "      <td>0.090566</td>\n",
       "    </tr>\n",
       "    <tr>\n",
       "      <th>136</th>\n",
       "      <td>0.000027</td>\n",
       "      <td>0.768780</td>\n",
       "      <td>0.090566</td>\n",
       "    </tr>\n",
       "    <tr>\n",
       "      <th>137</th>\n",
       "      <td>0.000027</td>\n",
       "      <td>0.767578</td>\n",
       "      <td>0.090566</td>\n",
       "    </tr>\n",
       "  </tbody>\n",
       "</table>\n",
       "</div>"
      ],
      "text/plain": [
       "       alphas  train_f1   test_f1\n",
       "133  0.000027  0.768780  0.090566\n",
       "134  0.000027  0.768780  0.090566\n",
       "135  0.000027  0.768780  0.090566\n",
       "136  0.000027  0.768780  0.090566\n",
       "137  0.000027  0.767578  0.090566"
      ]
     },
     "execution_count": 147,
     "metadata": {},
     "output_type": "execute_result"
    }
   ],
   "source": [
    "df=pd.DataFrame({\"alphas\":alphas,\"train_f1\":train_f1,\"test_f1\":test_f1})\n",
    "df[df.test_f1==df.test_f1.max()]"
   ]
  },
  {
   "cell_type": "code",
   "execution_count": 148,
   "metadata": {},
   "outputs": [
    {
     "data": {
      "text/plain": [
       "(0.7675781249999999, 0.09056603773584906)"
      ]
     },
     "execution_count": 148,
     "metadata": {},
     "output_type": "execute_result"
    }
   ],
   "source": [
    "classifier=DecisionTreeClassifier(ccp_alpha=0.000027,random_state=40)\n",
    "\n",
    "classifier.fit(X_trimputed,y_train)\n",
    "\n",
    "y_train_pred = classifier.predict(X_trimputed)\n",
    "y_test_pred = classifier.predict(X_teimputed)\n",
    "\n",
    "f1_score(y_train,y_train_pred),f1_score(y_test,y_test_pred)"
   ]
  },
  {
   "cell_type": "markdown",
   "metadata": {},
   "source": [
    "**This is the maximum test score we are getting on the original split using a decision tree which is not sufficient**"
   ]
  },
  {
   "cell_type": "code",
   "execution_count": null,
   "metadata": {},
   "outputs": [],
   "source": []
  }
 ],
 "metadata": {
  "kernelspec": {
   "display_name": "Python 3",
   "language": "python",
   "name": "python3"
  },
  "language_info": {
   "codemirror_mode": {
    "name": "ipython",
    "version": 3
   },
   "file_extension": ".py",
   "mimetype": "text/x-python",
   "name": "python",
   "nbconvert_exporter": "python",
   "pygments_lexer": "ipython3",
   "version": "3.7.6"
  }
 },
 "nbformat": 4,
 "nbformat_minor": 4
}
