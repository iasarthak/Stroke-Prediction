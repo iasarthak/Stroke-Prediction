{
 "cells": [
  {
   "cell_type": "markdown",
   "metadata": {},
   "source": [
    "### **After Exploring our data, we found out that all our variables except Residence Type and ID were relevant to our analysis i.e. they were affecting our target variable in some way or the other**"
   ]
  },
  {
   "cell_type": "code",
   "execution_count": 4,
   "metadata": {},
   "outputs": [],
   "source": [
    "import pandas as pd\n",
    "import numpy as np\n",
    "import matplotlib.pyplot as plt\n",
    "import seaborn as sns\n",
    "\n",
    "from IPython.display import display, clear_output"
   ]
  },
  {
   "cell_type": "code",
   "execution_count": 5,
   "metadata": {},
   "outputs": [
    {
     "data": {
      "text/html": [
       "<div>\n",
       "<style scoped>\n",
       "    .dataframe tbody tr th:only-of-type {\n",
       "        vertical-align: middle;\n",
       "    }\n",
       "\n",
       "    .dataframe tbody tr th {\n",
       "        vertical-align: top;\n",
       "    }\n",
       "\n",
       "    .dataframe thead th {\n",
       "        text-align: right;\n",
       "    }\n",
       "</style>\n",
       "<table border=\"1\" class=\"dataframe\">\n",
       "  <thead>\n",
       "    <tr style=\"text-align: right;\">\n",
       "      <th></th>\n",
       "      <th>id</th>\n",
       "      <th>gender</th>\n",
       "      <th>age</th>\n",
       "      <th>hypertension</th>\n",
       "      <th>heart_disease</th>\n",
       "      <th>ever_married</th>\n",
       "      <th>work_type</th>\n",
       "      <th>Residence_type</th>\n",
       "      <th>avg_glucose_level</th>\n",
       "      <th>bmi</th>\n",
       "      <th>smoking_status</th>\n",
       "      <th>stroke</th>\n",
       "    </tr>\n",
       "  </thead>\n",
       "  <tbody>\n",
       "    <tr>\n",
       "      <th>0</th>\n",
       "      <td>30669</td>\n",
       "      <td>Male</td>\n",
       "      <td>3.0</td>\n",
       "      <td>0</td>\n",
       "      <td>0</td>\n",
       "      <td>No</td>\n",
       "      <td>children</td>\n",
       "      <td>Rural</td>\n",
       "      <td>95.12</td>\n",
       "      <td>18.0</td>\n",
       "      <td>NaN</td>\n",
       "      <td>0</td>\n",
       "    </tr>\n",
       "    <tr>\n",
       "      <th>1</th>\n",
       "      <td>30468</td>\n",
       "      <td>Male</td>\n",
       "      <td>58.0</td>\n",
       "      <td>1</td>\n",
       "      <td>0</td>\n",
       "      <td>Yes</td>\n",
       "      <td>Private</td>\n",
       "      <td>Urban</td>\n",
       "      <td>87.96</td>\n",
       "      <td>39.2</td>\n",
       "      <td>never smoked</td>\n",
       "      <td>0</td>\n",
       "    </tr>\n",
       "    <tr>\n",
       "      <th>2</th>\n",
       "      <td>16523</td>\n",
       "      <td>Female</td>\n",
       "      <td>8.0</td>\n",
       "      <td>0</td>\n",
       "      <td>0</td>\n",
       "      <td>No</td>\n",
       "      <td>Private</td>\n",
       "      <td>Urban</td>\n",
       "      <td>110.89</td>\n",
       "      <td>17.6</td>\n",
       "      <td>NaN</td>\n",
       "      <td>0</td>\n",
       "    </tr>\n",
       "    <tr>\n",
       "      <th>3</th>\n",
       "      <td>56543</td>\n",
       "      <td>Female</td>\n",
       "      <td>70.0</td>\n",
       "      <td>0</td>\n",
       "      <td>0</td>\n",
       "      <td>Yes</td>\n",
       "      <td>Private</td>\n",
       "      <td>Rural</td>\n",
       "      <td>69.04</td>\n",
       "      <td>35.9</td>\n",
       "      <td>formerly smoked</td>\n",
       "      <td>0</td>\n",
       "    </tr>\n",
       "    <tr>\n",
       "      <th>4</th>\n",
       "      <td>46136</td>\n",
       "      <td>Male</td>\n",
       "      <td>14.0</td>\n",
       "      <td>0</td>\n",
       "      <td>0</td>\n",
       "      <td>No</td>\n",
       "      <td>Never_worked</td>\n",
       "      <td>Rural</td>\n",
       "      <td>161.28</td>\n",
       "      <td>19.1</td>\n",
       "      <td>NaN</td>\n",
       "      <td>0</td>\n",
       "    </tr>\n",
       "  </tbody>\n",
       "</table>\n",
       "</div>"
      ],
      "text/plain": [
       "      id  gender   age  hypertension  heart_disease ever_married  \\\n",
       "0  30669    Male   3.0             0              0           No   \n",
       "1  30468    Male  58.0             1              0          Yes   \n",
       "2  16523  Female   8.0             0              0           No   \n",
       "3  56543  Female  70.0             0              0          Yes   \n",
       "4  46136    Male  14.0             0              0           No   \n",
       "\n",
       "      work_type Residence_type  avg_glucose_level   bmi   smoking_status  \\\n",
       "0      children          Rural              95.12  18.0              NaN   \n",
       "1       Private          Urban              87.96  39.2     never smoked   \n",
       "2       Private          Urban             110.89  17.6              NaN   \n",
       "3       Private          Rural              69.04  35.9  formerly smoked   \n",
       "4  Never_worked          Rural             161.28  19.1              NaN   \n",
       "\n",
       "   stroke  \n",
       "0       0  \n",
       "1       0  \n",
       "2       0  \n",
       "3       0  \n",
       "4       0  "
      ]
     },
     "execution_count": 5,
     "metadata": {},
     "output_type": "execute_result"
    }
   ],
   "source": [
    "dataset= pd.read_csv(\"stroke prediction.csv\")\n",
    "dataset.head()"
   ]
  },
  {
   "cell_type": "code",
   "execution_count": 6,
   "metadata": {},
   "outputs": [],
   "source": [
    "dataset.drop(columns=[\"id\",\"Residence_type\"],inplace=True)"
   ]
  },
  {
   "cell_type": "code",
   "execution_count": 7,
   "metadata": {},
   "outputs": [],
   "source": [
    "dataset[\"gender\"]=dataset[\"gender\"].astype('category')\n",
    "dataset[\"ever_married\"]=dataset[\"ever_married\"].astype('category')\n",
    "# dataset[\"Residence_type\"]=dataset[\"Residence_type\"].astype('category')\n",
    "dataset[\"work_type\"]=dataset[\"work_type\"].astype('category')\n",
    "dataset[\"smoking_status\"]=dataset.smoking_status.astype(\"category\")"
   ]
  },
  {
   "cell_type": "code",
   "execution_count": 8,
   "metadata": {},
   "outputs": [],
   "source": [
    "dataset_imputed=dataset.copy()"
   ]
  },
  {
   "cell_type": "code",
   "execution_count": 9,
   "metadata": {},
   "outputs": [
    {
     "data": {
      "text/plain": [
       "gender               category\n",
       "age                   float64\n",
       "hypertension            int64\n",
       "heart_disease           int64\n",
       "ever_married         category\n",
       "work_type            category\n",
       "avg_glucose_level     float64\n",
       "bmi                   float64\n",
       "smoking_status       category\n",
       "stroke                  int64\n",
       "dtype: object"
      ]
     },
     "execution_count": 9,
     "metadata": {},
     "output_type": "execute_result"
    }
   ],
   "source": [
    "dataset_imputed.dtypes"
   ]
  },
  {
   "cell_type": "code",
   "execution_count": 10,
   "metadata": {},
   "outputs": [],
   "source": [
    "from sklearn.preprocessing import LabelEncoder\n",
    "\n",
    "encoder=LabelEncoder()\n",
    "\n",
    "dataset_imputed.gender=encoder.fit_transform(dataset_imputed.gender)\n",
    "\n",
    "dataset_imputed.ever_married=encoder.fit_transform(dataset_imputed.ever_married)\n",
    "\n",
    "dataset_imputed.work_type=encoder.fit_transform(dataset_imputed.work_type)\n",
    "\n",
    "# dataset_imputed.Residence_type=encoder.fit_transform(dataset_imputed.Residence_type)\n",
    "\n",
    "dataset_imputed.smoking_status=dataset_imputed.smoking_status.map({'never smoked':0,'formerly smoked':1,'smokes':2})"
   ]
  },
  {
   "cell_type": "code",
   "execution_count": null,
   "metadata": {},
   "outputs": [],
   "source": [
    "X=dataset_imputed.drop(columns=\"stroke\",axis=1)\n",
    "y=dataset_imputed[\"stroke\"]"
   ]
  },
  {
   "cell_type": "code",
   "execution_count": 11,
   "metadata": {},
   "outputs": [],
   "source": [
    "from sklearn.model_selection import train_test_split\n",
    "\n",
    "train,test= train_test_split(dataset_imputed,test_size=0.2,random_state=88,stratify=dataset_imputed.stroke)"
   ]
  },
  {
   "cell_type": "code",
   "execution_count": null,
   "metadata": {},
   "outputs": [],
   "source": [
    "train"
   ]
  },
  {
   "cell_type": "code",
   "execution_count": 9,
   "metadata": {},
   "outputs": [],
   "source": [
    "from sklearn.impute import KNNImputer\n",
    "\n",
    "imputer=KNNImputer()\n",
    "\n",
    "X_trimputed=pd.DataFrame(imputer.fit_transform(X_train),columns=X_train.columns)\n",
    "\n",
    "X_teimputed=pd.DataFrame(imputer.transform(X_test),columns=X_test.columns)"
   ]
  },
  {
   "cell_type": "code",
   "execution_count": 10,
   "metadata": {},
   "outputs": [],
   "source": [
    "X_trimputed[\"smoking_status\"]=X_trimputed[\"smoking_status\"].apply(round)\n",
    "X_trimputed[\"smoking_status\"].value_counts()\n",
    "\n",
    "X_trimputed[\"smoking_status\"]=X_trimputed[\"smoking_status\"].astype('category')\n",
    "X_trimputed[\"work_type\"]=X_trimputed[\"work_type\"].apply(int)\n",
    "X_trimputed[\"work_type\"]=X_trimputed[\"work_type\"].astype('category')"
   ]
  },
  {
   "cell_type": "code",
   "execution_count": 11,
   "metadata": {},
   "outputs": [],
   "source": [
    "X_teimputed[\"smoking_status\"]=X_teimputed[\"smoking_status\"].apply(round)\n",
    "X_teimputed[\"smoking_status\"].value_counts()\n",
    "\n",
    "X_teimputed[\"smoking_status\"]=X_teimputed[\"smoking_status\"].astype('category')\n",
    "X_teimputed[\"work_type\"]=X_teimputed[\"work_type\"].apply(int)\n",
    "X_teimputed[\"work_type\"]=X_teimputed[\"work_type\"].astype('category')"
   ]
  },
  {
   "cell_type": "code",
   "execution_count": 12,
   "metadata": {},
   "outputs": [],
   "source": [
    "X_trimputed[\"gender\"]=X_trimputed[\"gender\"].astype(\"category\")\n",
    "X_trimputed[[\"hypertension\",\"heart_disease\",\"ever_married\"]]=X_trimputed[[\"hypertension\",\"heart_disease\",\"ever_married\"]].astype(\"int\")\n",
    "\n",
    "X_teimputed[\"gender\"]=X_teimputed[\"gender\"].astype(\"category\")\n",
    "X_teimputed[[\"hypertension\",\"heart_disease\",\"ever_married\"]]=X_teimputed[[\"hypertension\",\"heart_disease\",\"ever_married\"]].astype(\"int\")"
   ]
  },
  {
   "cell_type": "code",
   "execution_count": 13,
   "metadata": {},
   "outputs": [],
   "source": [
    "X_trimputed=pd.get_dummies(X_trimputed,drop_first=True)\n",
    "X_teimputed=pd.get_dummies(X_teimputed,drop_first=True)"
   ]
  },
  {
   "cell_type": "code",
   "execution_count": 14,
   "metadata": {},
   "outputs": [
    {
     "data": {
      "text/html": [
       "<div>\n",
       "<style scoped>\n",
       "    .dataframe tbody tr th:only-of-type {\n",
       "        vertical-align: middle;\n",
       "    }\n",
       "\n",
       "    .dataframe tbody tr th {\n",
       "        vertical-align: top;\n",
       "    }\n",
       "\n",
       "    .dataframe thead th {\n",
       "        text-align: right;\n",
       "    }\n",
       "</style>\n",
       "<table border=\"1\" class=\"dataframe\">\n",
       "  <thead>\n",
       "    <tr style=\"text-align: right;\">\n",
       "      <th></th>\n",
       "      <th>age</th>\n",
       "      <th>hypertension</th>\n",
       "      <th>heart_disease</th>\n",
       "      <th>ever_married</th>\n",
       "      <th>avg_glucose_level</th>\n",
       "      <th>bmi</th>\n",
       "      <th>gender_1.0</th>\n",
       "      <th>gender_2.0</th>\n",
       "      <th>work_type_1</th>\n",
       "      <th>work_type_2</th>\n",
       "      <th>work_type_3</th>\n",
       "      <th>work_type_4</th>\n",
       "      <th>smoking_status_1</th>\n",
       "      <th>smoking_status_2</th>\n",
       "    </tr>\n",
       "  </thead>\n",
       "  <tbody>\n",
       "    <tr>\n",
       "      <th>0</th>\n",
       "      <td>4.0</td>\n",
       "      <td>0</td>\n",
       "      <td>0</td>\n",
       "      <td>0</td>\n",
       "      <td>136.51</td>\n",
       "      <td>17.1</td>\n",
       "      <td>1</td>\n",
       "      <td>0</td>\n",
       "      <td>0</td>\n",
       "      <td>0</td>\n",
       "      <td>0</td>\n",
       "      <td>1</td>\n",
       "      <td>0</td>\n",
       "      <td>0</td>\n",
       "    </tr>\n",
       "    <tr>\n",
       "      <th>1</th>\n",
       "      <td>9.0</td>\n",
       "      <td>0</td>\n",
       "      <td>0</td>\n",
       "      <td>0</td>\n",
       "      <td>90.55</td>\n",
       "      <td>27.3</td>\n",
       "      <td>1</td>\n",
       "      <td>0</td>\n",
       "      <td>0</td>\n",
       "      <td>0</td>\n",
       "      <td>0</td>\n",
       "      <td>1</td>\n",
       "      <td>0</td>\n",
       "      <td>0</td>\n",
       "    </tr>\n",
       "    <tr>\n",
       "      <th>2</th>\n",
       "      <td>29.0</td>\n",
       "      <td>0</td>\n",
       "      <td>0</td>\n",
       "      <td>1</td>\n",
       "      <td>108.69</td>\n",
       "      <td>29.6</td>\n",
       "      <td>1</td>\n",
       "      <td>0</td>\n",
       "      <td>0</td>\n",
       "      <td>1</td>\n",
       "      <td>0</td>\n",
       "      <td>0</td>\n",
       "      <td>0</td>\n",
       "      <td>0</td>\n",
       "    </tr>\n",
       "    <tr>\n",
       "      <th>3</th>\n",
       "      <td>63.0</td>\n",
       "      <td>0</td>\n",
       "      <td>0</td>\n",
       "      <td>1</td>\n",
       "      <td>84.57</td>\n",
       "      <td>31.2</td>\n",
       "      <td>1</td>\n",
       "      <td>0</td>\n",
       "      <td>0</td>\n",
       "      <td>1</td>\n",
       "      <td>0</td>\n",
       "      <td>0</td>\n",
       "      <td>1</td>\n",
       "      <td>0</td>\n",
       "    </tr>\n",
       "    <tr>\n",
       "      <th>4</th>\n",
       "      <td>67.0</td>\n",
       "      <td>0</td>\n",
       "      <td>0</td>\n",
       "      <td>1</td>\n",
       "      <td>70.43</td>\n",
       "      <td>26.3</td>\n",
       "      <td>0</td>\n",
       "      <td>0</td>\n",
       "      <td>0</td>\n",
       "      <td>0</td>\n",
       "      <td>1</td>\n",
       "      <td>0</td>\n",
       "      <td>0</td>\n",
       "      <td>0</td>\n",
       "    </tr>\n",
       "    <tr>\n",
       "      <th>...</th>\n",
       "      <td>...</td>\n",
       "      <td>...</td>\n",
       "      <td>...</td>\n",
       "      <td>...</td>\n",
       "      <td>...</td>\n",
       "      <td>...</td>\n",
       "      <td>...</td>\n",
       "      <td>...</td>\n",
       "      <td>...</td>\n",
       "      <td>...</td>\n",
       "      <td>...</td>\n",
       "      <td>...</td>\n",
       "      <td>...</td>\n",
       "      <td>...</td>\n",
       "    </tr>\n",
       "    <tr>\n",
       "      <th>34715</th>\n",
       "      <td>62.0</td>\n",
       "      <td>0</td>\n",
       "      <td>0</td>\n",
       "      <td>1</td>\n",
       "      <td>58.90</td>\n",
       "      <td>29.1</td>\n",
       "      <td>0</td>\n",
       "      <td>0</td>\n",
       "      <td>0</td>\n",
       "      <td>1</td>\n",
       "      <td>0</td>\n",
       "      <td>0</td>\n",
       "      <td>1</td>\n",
       "      <td>0</td>\n",
       "    </tr>\n",
       "    <tr>\n",
       "      <th>34716</th>\n",
       "      <td>43.0</td>\n",
       "      <td>0</td>\n",
       "      <td>0</td>\n",
       "      <td>0</td>\n",
       "      <td>94.82</td>\n",
       "      <td>29.7</td>\n",
       "      <td>0</td>\n",
       "      <td>0</td>\n",
       "      <td>0</td>\n",
       "      <td>0</td>\n",
       "      <td>0</td>\n",
       "      <td>0</td>\n",
       "      <td>0</td>\n",
       "      <td>0</td>\n",
       "    </tr>\n",
       "    <tr>\n",
       "      <th>34717</th>\n",
       "      <td>23.0</td>\n",
       "      <td>0</td>\n",
       "      <td>0</td>\n",
       "      <td>0</td>\n",
       "      <td>98.66</td>\n",
       "      <td>28.3</td>\n",
       "      <td>0</td>\n",
       "      <td>0</td>\n",
       "      <td>0</td>\n",
       "      <td>1</td>\n",
       "      <td>0</td>\n",
       "      <td>0</td>\n",
       "      <td>0</td>\n",
       "      <td>0</td>\n",
       "    </tr>\n",
       "    <tr>\n",
       "      <th>34718</th>\n",
       "      <td>9.0</td>\n",
       "      <td>0</td>\n",
       "      <td>0</td>\n",
       "      <td>0</td>\n",
       "      <td>150.00</td>\n",
       "      <td>17.4</td>\n",
       "      <td>1</td>\n",
       "      <td>0</td>\n",
       "      <td>0</td>\n",
       "      <td>0</td>\n",
       "      <td>0</td>\n",
       "      <td>1</td>\n",
       "      <td>0</td>\n",
       "      <td>0</td>\n",
       "    </tr>\n",
       "    <tr>\n",
       "      <th>34719</th>\n",
       "      <td>31.0</td>\n",
       "      <td>0</td>\n",
       "      <td>0</td>\n",
       "      <td>1</td>\n",
       "      <td>77.38</td>\n",
       "      <td>39.6</td>\n",
       "      <td>0</td>\n",
       "      <td>0</td>\n",
       "      <td>0</td>\n",
       "      <td>0</td>\n",
       "      <td>1</td>\n",
       "      <td>0</td>\n",
       "      <td>0</td>\n",
       "      <td>0</td>\n",
       "    </tr>\n",
       "  </tbody>\n",
       "</table>\n",
       "<p>34720 rows × 14 columns</p>\n",
       "</div>"
      ],
      "text/plain": [
       "        age  hypertension  heart_disease  ever_married  avg_glucose_level  \\\n",
       "0       4.0             0              0             0             136.51   \n",
       "1       9.0             0              0             0              90.55   \n",
       "2      29.0             0              0             1             108.69   \n",
       "3      63.0             0              0             1              84.57   \n",
       "4      67.0             0              0             1              70.43   \n",
       "...     ...           ...            ...           ...                ...   \n",
       "34715  62.0             0              0             1              58.90   \n",
       "34716  43.0             0              0             0              94.82   \n",
       "34717  23.0             0              0             0              98.66   \n",
       "34718   9.0             0              0             0             150.00   \n",
       "34719  31.0             0              0             1              77.38   \n",
       "\n",
       "        bmi  gender_1.0  gender_2.0  work_type_1  work_type_2  work_type_3  \\\n",
       "0      17.1           1           0            0            0            0   \n",
       "1      27.3           1           0            0            0            0   \n",
       "2      29.6           1           0            0            1            0   \n",
       "3      31.2           1           0            0            1            0   \n",
       "4      26.3           0           0            0            0            1   \n",
       "...     ...         ...         ...          ...          ...          ...   \n",
       "34715  29.1           0           0            0            1            0   \n",
       "34716  29.7           0           0            0            0            0   \n",
       "34717  28.3           0           0            0            1            0   \n",
       "34718  17.4           1           0            0            0            0   \n",
       "34719  39.6           0           0            0            0            1   \n",
       "\n",
       "       work_type_4  smoking_status_1  smoking_status_2  \n",
       "0                1                 0                 0  \n",
       "1                1                 0                 0  \n",
       "2                0                 0                 0  \n",
       "3                0                 1                 0  \n",
       "4                0                 0                 0  \n",
       "...            ...               ...               ...  \n",
       "34715            0                 1                 0  \n",
       "34716            0                 0                 0  \n",
       "34717            0                 0                 0  \n",
       "34718            1                 0                 0  \n",
       "34719            0                 0                 0  \n",
       "\n",
       "[34720 rows x 14 columns]"
      ]
     },
     "execution_count": 14,
     "metadata": {},
     "output_type": "execute_result"
    }
   ],
   "source": [
    "X_trimputed"
   ]
  },
  {
   "cell_type": "code",
   "execution_count": 15,
   "metadata": {},
   "outputs": [],
   "source": [
    "from sklearn.preprocessing import MinMaxScaler\n",
    "\n",
    "scaler=MinMaxScaler()\n",
    "\n",
    "scaler.fit(X_trimputed)\n",
    "\n",
    "X_trimputed=pd.DataFrame(scaler.transform(X_trimputed),columns=X_trimputed.columns)\n",
    "\n",
    "X_teimputed=pd.DataFrame(scaler.transform(X_teimputed),columns=X_teimputed.columns)"
   ]
  },
  {
   "cell_type": "code",
   "execution_count": 16,
   "metadata": {},
   "outputs": [
    {
     "data": {
      "text/html": [
       "<div>\n",
       "<style scoped>\n",
       "    .dataframe tbody tr th:only-of-type {\n",
       "        vertical-align: middle;\n",
       "    }\n",
       "\n",
       "    .dataframe tbody tr th {\n",
       "        vertical-align: top;\n",
       "    }\n",
       "\n",
       "    .dataframe thead th {\n",
       "        text-align: right;\n",
       "    }\n",
       "</style>\n",
       "<table border=\"1\" class=\"dataframe\">\n",
       "  <thead>\n",
       "    <tr style=\"text-align: right;\">\n",
       "      <th></th>\n",
       "      <th>age</th>\n",
       "      <th>hypertension</th>\n",
       "      <th>heart_disease</th>\n",
       "      <th>ever_married</th>\n",
       "      <th>avg_glucose_level</th>\n",
       "      <th>bmi</th>\n",
       "      <th>gender_1.0</th>\n",
       "      <th>gender_2.0</th>\n",
       "      <th>work_type_1</th>\n",
       "      <th>work_type_2</th>\n",
       "      <th>work_type_3</th>\n",
       "      <th>work_type_4</th>\n",
       "      <th>smoking_status_1</th>\n",
       "      <th>smoking_status_2</th>\n",
       "    </tr>\n",
       "  </thead>\n",
       "  <tbody>\n",
       "    <tr>\n",
       "      <th>0</th>\n",
       "      <td>0.047852</td>\n",
       "      <td>0.0</td>\n",
       "      <td>0.0</td>\n",
       "      <td>0.0</td>\n",
       "      <td>0.345280</td>\n",
       "      <td>0.080000</td>\n",
       "      <td>1.0</td>\n",
       "      <td>0.0</td>\n",
       "      <td>0.0</td>\n",
       "      <td>0.0</td>\n",
       "      <td>0.0</td>\n",
       "      <td>1.0</td>\n",
       "      <td>0.0</td>\n",
       "      <td>0.0</td>\n",
       "    </tr>\n",
       "    <tr>\n",
       "      <th>1</th>\n",
       "      <td>0.108887</td>\n",
       "      <td>0.0</td>\n",
       "      <td>0.0</td>\n",
       "      <td>0.0</td>\n",
       "      <td>0.150568</td>\n",
       "      <td>0.196571</td>\n",
       "      <td>1.0</td>\n",
       "      <td>0.0</td>\n",
       "      <td>0.0</td>\n",
       "      <td>0.0</td>\n",
       "      <td>0.0</td>\n",
       "      <td>1.0</td>\n",
       "      <td>0.0</td>\n",
       "      <td>0.0</td>\n",
       "    </tr>\n",
       "  </tbody>\n",
       "</table>\n",
       "</div>"
      ],
      "text/plain": [
       "        age  hypertension  heart_disease  ever_married  avg_glucose_level  \\\n",
       "0  0.047852           0.0            0.0           0.0           0.345280   \n",
       "1  0.108887           0.0            0.0           0.0           0.150568   \n",
       "\n",
       "        bmi  gender_1.0  gender_2.0  work_type_1  work_type_2  work_type_3  \\\n",
       "0  0.080000         1.0         0.0          0.0          0.0          0.0   \n",
       "1  0.196571         1.0         0.0          0.0          0.0          0.0   \n",
       "\n",
       "   work_type_4  smoking_status_1  smoking_status_2  \n",
       "0          1.0               0.0               0.0  \n",
       "1          1.0               0.0               0.0  "
      ]
     },
     "execution_count": 16,
     "metadata": {},
     "output_type": "execute_result"
    }
   ],
   "source": [
    "X_trimputed.head(2)"
   ]
  },
  {
   "cell_type": "markdown",
   "metadata": {},
   "source": [
    "## Logistic Regression"
   ]
  },
  {
   "cell_type": "code",
   "execution_count": 31,
   "metadata": {},
   "outputs": [],
   "source": [
    "from sklearn.linear_model import LogisticRegression\n",
    "from sklearn.metrics import classification_report as rep\n",
    "from sklearn.metrics import f1_score"
   ]
  },
  {
   "cell_type": "code",
   "execution_count": 18,
   "metadata": {},
   "outputs": [],
   "source": [
    "logreg=LogisticRegression()\n",
    "\n",
    "logreg.fit(X_trimputed,y_train)\n",
    "y_train_pred=logreg.predict(X_trimputed)\n",
    "\n",
    "y_test_pred=logreg.predict(X_teimputed)"
   ]
  },
  {
   "cell_type": "code",
   "execution_count": 19,
   "metadata": {},
   "outputs": [
    {
     "name": "stdout",
     "output_type": "stream",
     "text": [
      "Train Report\n",
      "              precision    recall  f1-score   support\n",
      "\n",
      "           0       0.98      1.00      0.99     34094\n",
      "           1       0.00      0.00      0.00       626\n",
      "\n",
      "    accuracy                           0.98     34720\n",
      "   macro avg       0.49      0.50      0.50     34720\n",
      "weighted avg       0.96      0.98      0.97     34720\n",
      "\n",
      "Test Report\n",
      "              precision    recall  f1-score   support\n",
      "\n",
      "           0       0.98      1.00      0.99      8523\n",
      "           1       0.00      0.00      0.00       157\n",
      "\n",
      "    accuracy                           0.98      8680\n",
      "   macro avg       0.49      0.50      0.50      8680\n",
      "weighted avg       0.96      0.98      0.97      8680\n",
      "\n"
     ]
    },
    {
     "name": "stderr",
     "output_type": "stream",
     "text": [
      "C:\\ProgramData\\Anaconda3\\lib\\site-packages\\sklearn\\metrics\\_classification.py:1272: UndefinedMetricWarning: Precision and F-score are ill-defined and being set to 0.0 in labels with no predicted samples. Use `zero_division` parameter to control this behavior.\n",
      "  _warn_prf(average, modifier, msg_start, len(result))\n"
     ]
    }
   ],
   "source": [
    "print(\"Train Report\")\n",
    "\n",
    "print(rep(y_train, y_train_pred))\n",
    "\n",
    "print(\"Test Report\")\n",
    "\n",
    "print(rep(y_test, y_test_pred))"
   ]
  },
  {
   "cell_type": "markdown",
   "metadata": {},
   "source": [
    "**This is behaving as a dumb model, all the values are being predicted as 0**"
   ]
  },
  {
   "cell_type": "code",
   "execution_count": 20,
   "metadata": {},
   "outputs": [
    {
     "data": {
      "text/plain": [
       "array([0.04182998, 0.00670357, 0.01573857, ..., 0.00361589, 0.01125902,\n",
       "       0.00872016])"
      ]
     },
     "execution_count": 20,
     "metadata": {},
     "output_type": "execute_result"
    }
   ],
   "source": [
    "y_train_prob=logreg.predict_proba(X_trimputed)[:,1]\n",
    "y_train_prob\n",
    "\n",
    "y_test_prob=logreg.predict_proba(X_teimputed)[:,1]\n",
    "y_test_prob\n"
   ]
  },
  {
   "cell_type": "code",
   "execution_count": 21,
   "metadata": {},
   "outputs": [
    {
     "name": "stdout",
     "output_type": "stream",
     "text": [
      "              precision    recall  f1-score   support\n",
      "\n",
      "           0       0.99      0.95      0.97     34094\n",
      "           1       0.10      0.33      0.15       626\n",
      "\n",
      "    accuracy                           0.93     34720\n",
      "   macro avg       0.54      0.64      0.56     34720\n",
      "weighted avg       0.97      0.93      0.95     34720\n",
      "\n"
     ]
    }
   ],
   "source": [
    "y_train_pred = list(map( lambda x: 1 if x>0.07 else 0, y_train_prob))\n",
    "\n",
    "print(rep(y_train, y_train_pred))"
   ]
  },
  {
   "cell_type": "code",
   "execution_count": 22,
   "metadata": {},
   "outputs": [
    {
     "name": "stdout",
     "output_type": "stream",
     "text": [
      "              precision    recall  f1-score   support\n",
      "\n",
      "           0       0.99      0.94      0.97      8523\n",
      "           1       0.10      0.35      0.16       157\n",
      "\n",
      "    accuracy                           0.93      8680\n",
      "   macro avg       0.55      0.65      0.56      8680\n",
      "weighted avg       0.97      0.93      0.95      8680\n",
      "\n"
     ]
    }
   ],
   "source": [
    "y_test_pred = list(map( lambda x: 1 if x>0.07 else 0, y_test_prob))\n",
    "\n",
    "print(rep(y_test, y_test_pred))"
   ]
  },
  {
   "cell_type": "markdown",
   "metadata": {},
   "source": [
    "**Our Predicted Probabilities are coming out to be nearly 0 for the Minor Class**"
   ]
  },
  {
   "cell_type": "markdown",
   "metadata": {},
   "source": [
    "**The Model is Underfitting our Data, hence there is High Bias and Low Variance**"
   ]
  },
  {
   "cell_type": "markdown",
   "metadata": {},
   "source": [
    "## Logistic Regression (Weight Balanced)"
   ]
  },
  {
   "cell_type": "code",
   "execution_count": 28,
   "metadata": {},
   "outputs": [],
   "source": [
    "logreg=LogisticRegression(class_weight = 'balanced')\n",
    "\n",
    "logreg.fit(X_trimputed,y_train)\n",
    "y_train_pred=logreg.predict(X_trimputed)\n",
    "\n",
    "y_test_pred=logreg.predict(X_teimputed)"
   ]
  },
  {
   "cell_type": "code",
   "execution_count": 29,
   "metadata": {},
   "outputs": [
    {
     "name": "stdout",
     "output_type": "stream",
     "text": [
      "Train Report\n",
      "              precision    recall  f1-score   support\n",
      "\n",
      "           0       1.00      0.74      0.85     34094\n",
      "           1       0.05      0.82      0.10       626\n",
      "\n",
      "    accuracy                           0.74     34720\n",
      "   macro avg       0.53      0.78      0.47     34720\n",
      "weighted avg       0.98      0.74      0.83     34720\n",
      "\n",
      "Test Report\n",
      "              precision    recall  f1-score   support\n",
      "\n",
      "           0       1.00      0.74      0.85      8523\n",
      "           1       0.05      0.83      0.10       157\n",
      "\n",
      "    accuracy                           0.74      8680\n",
      "   macro avg       0.53      0.78      0.47      8680\n",
      "weighted avg       0.98      0.74      0.83      8680\n",
      "\n"
     ]
    }
   ],
   "source": [
    "print(\"Train Report\")\n",
    "\n",
    "print(rep(y_train, y_train_pred))\n",
    "\n",
    "print(\"Test Report\")\n",
    "\n",
    "print(rep(y_test, y_test_pred))"
   ]
  },
  {
   "cell_type": "code",
   "execution_count": 30,
   "metadata": {},
   "outputs": [
    {
     "data": {
      "text/plain": [
       "array([0.70439085, 0.20426914, 0.44244751, ..., 0.11896566, 0.38399405,\n",
       "       0.29028772])"
      ]
     },
     "execution_count": 30,
     "metadata": {},
     "output_type": "execute_result"
    }
   ],
   "source": [
    "y_train_prob=logreg.predict_proba(X_trimputed)[:,1]\n",
    "y_train_prob\n",
    "\n",
    "y_test_prob=logreg.predict_proba(X_teimputed)[:,1]\n",
    "y_test_prob\n"
   ]
  },
  {
   "cell_type": "code",
   "execution_count": 37,
   "metadata": {},
   "outputs": [
    {
     "data": {
      "text/plain": [
       "(0.85218150870615, 0.8520481484719878)"
      ]
     },
     "execution_count": 37,
     "metadata": {},
     "output_type": "execute_result"
    }
   ],
   "source": [
    "from sklearn.metrics import roc_auc_score\n",
    "\n",
    "roc_auc_score(y_train,y_train_prob),roc_auc_score(y_test,y_test_prob)"
   ]
  },
  {
   "cell_type": "markdown",
   "metadata": {},
   "source": [
    "## KNN "
   ]
  },
  {
   "cell_type": "code",
   "execution_count": 39,
   "metadata": {},
   "outputs": [],
   "source": [
    "from sklearn.neighbors import KNeighborsClassifier as KNN"
   ]
  },
  {
   "cell_type": "code",
   "execution_count": 40,
   "metadata": {},
   "outputs": [],
   "source": [
    "from sklearn.model_selection import cross_val_score"
   ]
  },
  {
   "cell_type": "code",
   "execution_count": 98,
   "metadata": {},
   "outputs": [],
   "source": [
    "# def val_score(n_neighbors):\n",
    "    \n",
    "#     avg=[]\n",
    "#     std=[]\n",
    "    \n",
    "    \n",
    "#     for i in n_neighbors:\n",
    "#         score = cross_val_score(KNN(n_neighbors=i),scoring='f1',X=X_trimputed, y=y_train, cv=10)\n",
    "        \n",
    "        \n",
    "#         avg.append(score.mean())\n",
    "#         std.append(score.std())\n",
    "        \n",
    "#     return avg,std"
   ]
  },
  {
   "cell_type": "code",
   "execution_count": 99,
   "metadata": {},
   "outputs": [],
   "source": [
    "# n_neighbors = range(1,10)\n",
    "# mean, std = val_score(n_neighbors)"
   ]
  },
  {
   "cell_type": "code",
   "execution_count": 130,
   "metadata": {},
   "outputs": [
    {
     "data": {
      "text/plain": [
       "<matplotlib.axes._subplots.AxesSubplot at 0x17a81b67908>"
      ]
     },
     "execution_count": 130,
     "metadata": {},
     "output_type": "execute_result"
    },
    {
     "data": {
      "image/png": "[encoded data removed]",
      "text/plain": [
       "<Figure size 432x288 with 2 Axes>"
      ]
     },
     "metadata": {
      "needs_background": "light"
     },
     "output_type": "display_data"
    }
   ],
   "source": [
    "fig,ax=plt.subplots(1,2,figsize=(14,7))\n",
    "\n",
    "sns.lineplot(y=mean,x=range(1,10),ax=ax[0])\n",
    "sns.lineplot(y=std,x=range(1,10),ax=ax[1])"
   ]
  },
  {
   "cell_type": "markdown",
   "metadata": {},
   "source": [
    "**Our Model is fitting well for only 3 nearest neighbours**"
   ]
  },
  {
   "cell_type": "code",
   "execution_count": 48,
   "metadata": {},
   "outputs": [
    {
     "data": {
      "text/plain": [
       "(0.20301783264746226, 0.08290155440414508)"
      ]
     },
     "execution_count": 48,
     "metadata": {},
     "output_type": "execute_result"
    }
   ],
   "source": [
    "classifier=KNN(n_neighbors=3)\n",
    "\n",
    "classifier.fit(X_trimputed,y_train)\n",
    "\n",
    "y_train_pred=classifier.predict(X_trimputed)\n",
    "y_test_pred=classifier.predict(X_teimputed)\n",
    "\n",
    "f1_score(y_train,y_train_pred),f1_score(y_test,y_test_pred)"
   ]
  },
  {
   "cell_type": "code",
   "execution_count": 49,
   "metadata": {},
   "outputs": [
    {
     "data": {
      "text/plain": [
       "array([0., 0., 0., ..., 0., 0., 0.])"
      ]
     },
     "execution_count": 49,
     "metadata": {},
     "output_type": "execute_result"
    }
   ],
   "source": [
    "y_train_prob=classifier.predict_proba(X_trimputed)[:,1]\n",
    "y_train_prob\n",
    "\n",
    "y_test_prob=classifier.predict_proba(X_teimputed)[:,1]\n",
    "y_test_prob\n"
   ]
  },
  {
   "cell_type": "code",
   "execution_count": 50,
   "metadata": {},
   "outputs": [
    {
     "data": {
      "text/plain": [
       "(0.9842778216436385, 0.5720287778816555)"
      ]
     },
     "execution_count": 50,
     "metadata": {},
     "output_type": "execute_result"
    }
   ],
   "source": [
    "roc_auc_score(y_train,y_train_prob),roc_auc_score(y_test,y_test_prob)"
   ]
  },
  {
   "cell_type": "markdown",
   "metadata": {},
   "source": [
    "**Again, the F1 score is coming out to be very less. It is performing worse than Logistic Regression with a weight parameter**"
   ]
  },
  {
   "cell_type": "markdown",
   "metadata": {},
   "source": [
    "## Decision Tree"
   ]
  },
  {
   "cell_type": "code",
   "execution_count": 69,
   "metadata": {},
   "outputs": [],
   "source": [
    "from sklearn.tree import DecisionTreeClassifier"
   ]
  },
  {
   "cell_type": "code",
   "execution_count": 70,
   "metadata": {},
   "outputs": [],
   "source": [
    "classifier=DecisionTreeClassifier(random_state=40,class_weight='balanced')\n",
    "\n",
    "classifier.fit(X_trimputed,y_train)\n",
    "\n",
    "y_train_pred = classifier.predict(X_trimputed)\n",
    "y_test_pred = classifier.predict(X_teimputed)"
   ]
  },
  {
   "cell_type": "code",
   "execution_count": 71,
   "metadata": {},
   "outputs": [
    {
     "name": "stdout",
     "output_type": "stream",
     "text": [
      "              precision    recall  f1-score   support\n",
      "\n",
      "           0       1.00      1.00      1.00     34094\n",
      "           1       1.00      1.00      1.00       626\n",
      "\n",
      "    accuracy                           1.00     34720\n",
      "   macro avg       1.00      1.00      1.00     34720\n",
      "weighted avg       1.00      1.00      1.00     34720\n",
      "\n",
      "              precision    recall  f1-score   support\n",
      "\n",
      "           0       0.98      0.98      0.98      8523\n",
      "           1       0.03      0.03      0.03       157\n",
      "\n",
      "    accuracy                           0.96      8680\n",
      "   macro avg       0.51      0.51      0.51      8680\n",
      "weighted avg       0.96      0.96      0.96      8680\n",
      "\n"
     ]
    }
   ],
   "source": [
    "print(rep(y_train,y_train_pred))\n",
    "print(rep(y_test,y_test_pred))"
   ]
  },
  {
   "cell_type": "code",
   "execution_count": 72,
   "metadata": {},
   "outputs": [
    {
     "data": {
      "text/plain": [
       "(1.0, 0.03154574132492114)"
      ]
     },
     "execution_count": 72,
     "metadata": {},
     "output_type": "execute_result"
    }
   ],
   "source": [
    "f1_score(y_train,y_train_pred),f1_score(y_test,y_test_pred)"
   ]
  },
  {
   "cell_type": "code",
   "execution_count": 73,
   "metadata": {},
   "outputs": [
    {
     "data": {
      "text/plain": [
       "array([1., 0., 0., ..., 0., 0., 0.])"
      ]
     },
     "execution_count": 73,
     "metadata": {},
     "output_type": "execute_result"
    }
   ],
   "source": [
    "y_train_prob=classifier.predict_proba(X_trimputed)[:,1]\n",
    "y_train_prob\n",
    "\n",
    "y_test_prob=classifier.predict_proba(X_teimputed)[:,1]\n",
    "y_test_prob\n"
   ]
  },
  {
   "cell_type": "code",
   "execution_count": 74,
   "metadata": {},
   "outputs": [
    {
     "data": {
      "text/plain": [
       "(1.0, 0.5068305245230029)"
      ]
     },
     "execution_count": 74,
     "metadata": {},
     "output_type": "execute_result"
    }
   ],
   "source": [
    "roc_auc_score(y_train,y_train_prob),roc_auc_score(y_test,y_test_prob)"
   ]
  },
  {
   "cell_type": "markdown",
   "metadata": {},
   "source": [
    "**Decision Trees tend to overfit our data if they are not pruned. We can see that the train F1 scores are coming out to be 1.0 but the test is very less. There is High Variance and Low Bias in our Model.**"
   ]
  },
  {
   "cell_type": "code",
   "execution_count": 75,
   "metadata": {},
   "outputs": [
    {
     "data": {
      "text/plain": [
       "{'ccp_alphas': array([0.00000000e+00, 1.44879943e-05, 1.45319266e-05, 1.45319266e-05,\n",
       "        1.45319266e-05, 1.45319266e-05, 1.45319266e-05, 1.45319266e-05,\n",
       "        1.45319266e-05, 1.45319266e-05, 1.45319266e-05, 1.45319266e-05,\n",
       "        1.45319266e-05, 1.45319266e-05, 1.45319266e-05, 1.45319266e-05,\n",
       "        1.45319266e-05, 1.45319266e-05, 1.45319266e-05, 1.45319266e-05,\n",
       "        1.45319266e-05, 1.45319266e-05, 1.45319266e-05, 1.45319266e-05,\n",
       "        1.45319266e-05, 1.45319266e-05, 1.45319266e-05, 1.45319266e-05,\n",
       "        1.45761262e-05, 1.45761262e-05, 1.45761262e-05, 1.45761262e-05,\n",
       "        1.45761262e-05, 1.45761262e-05, 1.45761262e-05, 1.45761262e-05,\n",
       "        1.45761262e-05, 1.45761262e-05, 1.45761262e-05, 1.45761262e-05,\n",
       "        1.45983270e-05, 1.45983270e-05, 1.45983270e-05, 1.45983270e-05,\n",
       "        1.45983270e-05, 1.45983270e-05, 1.45983270e-05, 1.46116800e-05,\n",
       "        1.46116800e-05, 1.91138922e-05, 1.92443040e-05, 1.93316353e-05,\n",
       "        1.94112189e-05, 1.94137218e-05, 1.94517388e-05, 2.31248627e-05,\n",
       "        2.80343749e-05, 2.81135852e-05, 2.82848461e-05, 2.82917445e-05,\n",
       "        2.82917445e-05, 2.82917445e-05, 2.85398334e-05, 2.85398334e-05,\n",
       "        2.85398334e-05, 2.85398334e-05, 2.85398334e-05, 2.85445152e-05,\n",
       "        2.85445152e-05, 2.85445152e-05, 2.86266387e-05, 2.86266387e-05,\n",
       "        2.86297788e-05, 2.86690588e-05, 2.86726019e-05, 2.87145067e-05,\n",
       "        2.87995551e-05, 2.87997246e-05, 2.87997246e-05, 2.88018433e-05,\n",
       "        2.88018433e-05, 2.88018433e-05, 2.88018433e-05, 2.88018433e-05,\n",
       "        2.88018433e-05, 2.88018433e-05, 2.88018433e-05, 2.88018433e-05,\n",
       "        2.88018433e-05, 2.88018433e-05, 2.88018433e-05, 2.88018433e-05,\n",
       "        2.88018433e-05, 2.88018433e-05, 2.88018433e-05, 2.88018433e-05,\n",
       "        2.88018433e-05, 2.88018433e-05, 2.88018433e-05, 2.88018433e-05,\n",
       "        2.88018433e-05, 2.88018433e-05, 2.88664560e-05, 2.89310525e-05,\n",
       "        2.89310525e-05, 2.89310525e-05, 2.89310525e-05, 2.89322551e-05,\n",
       "        2.89322551e-05, 2.89322551e-05, 2.89498023e-05, 2.89759886e-05,\n",
       "        2.89759886e-05, 2.89759886e-05, 2.89759886e-05, 2.89759886e-05,\n",
       "        2.89759886e-05, 2.89759886e-05, 2.89759886e-05, 2.89759886e-05,\n",
       "        2.89840916e-05, 2.90102967e-05, 2.90110706e-05, 2.90638533e-05,\n",
       "        2.90638533e-05, 2.90638533e-05, 2.90638533e-05, 2.90638533e-05,\n",
       "        2.90638533e-05, 2.90638533e-05, 2.90638533e-05, 2.90638533e-05,\n",
       "        2.90638533e-05, 2.90638533e-05, 2.90638533e-05, 2.90638533e-05,\n",
       "        2.90638533e-05, 2.90638533e-05, 2.90638533e-05, 2.90638533e-05,\n",
       "        2.90638533e-05, 2.90638533e-05, 2.90638533e-05, 2.90638533e-05,\n",
       "        2.91168284e-05, 2.91168284e-05, 2.91168284e-05, 2.91522525e-05,\n",
       "        2.91522525e-05, 2.91522525e-05, 2.91522525e-05, 2.91966541e-05,\n",
       "        2.91966541e-05, 2.91966541e-05, 2.92233600e-05, 3.55746974e-05,\n",
       "        3.55746974e-05, 3.77131282e-05, 3.77223260e-05, 3.80702523e-05,\n",
       "        3.81730384e-05, 3.81730384e-05, 3.82856547e-05, 3.82863609e-05,\n",
       "        3.84024578e-05, 4.19540172e-05, 4.24376167e-05, 4.28167728e-05,\n",
       "        4.28167728e-05, 4.28167728e-05, 4.28167728e-05, 4.30071473e-05,\n",
       "        4.32027650e-05, 4.32027650e-05, 4.32027650e-05, 4.33136013e-05,\n",
       "        4.33402971e-05, 4.33983827e-05, 4.35166059e-05, 4.81477558e-05,\n",
       "        4.84200729e-05, 4.92954258e-05, 5.27121010e-05, 5.36418189e-05,\n",
       "        5.36418189e-05, 5.39423284e-05, 5.45811325e-05, 5.45835105e-05,\n",
       "        5.45835105e-05, 5.45963553e-05, 5.46477950e-05, 5.52313517e-05,\n",
       "        5.53630362e-05, 5.55632912e-05, 5.55987991e-05, 5.58932596e-05,\n",
       "        5.58992448e-05, 5.60597178e-05, 5.60868224e-05, 5.60877555e-05,\n",
       "        5.62271704e-05, 5.63284395e-05, 5.65662441e-05, 5.65671380e-05,\n",
       "        5.65696922e-05, 5.65696922e-05, 5.65696922e-05, 5.65696922e-05,\n",
       "        5.65696922e-05, 5.65696922e-05, 5.65753821e-05, 5.65834889e-05,\n",
       "        5.65834889e-05, 5.65834889e-05, 5.65834889e-05, 5.65834889e-05,\n",
       "        5.65834889e-05, 5.65834889e-05, 5.65834889e-05, 5.65834889e-05,\n",
       "        5.65834889e-05, 5.65834889e-05, 5.65834889e-05, 5.65834889e-05,\n",
       "        5.65902406e-05, 5.66575570e-05, 5.68317022e-05, 5.68960516e-05,\n",
       "        5.70796667e-05, 5.71473786e-05, 5.72532775e-05, 5.72752763e-05,\n",
       "        5.73906568e-05, 5.73906568e-05, 5.74062813e-05, 5.76036866e-05,\n",
       "        5.76036866e-05, 5.76036866e-05, 5.76036866e-05, 5.79519771e-05,\n",
       "        5.79519771e-05, 5.79519771e-05, 5.81277066e-05, 5.81277066e-05,\n",
       "        5.81277066e-05, 6.39482174e-05, 6.43057278e-05, 6.51385162e-05,\n",
       "        6.55780389e-05, 6.57612997e-05, 6.57749842e-05, 6.75634143e-05,\n",
       "        6.75999689e-05, 6.93444377e-05, 7.00449968e-05, 7.02285209e-05,\n",
       "        7.03433068e-05, 7.03433068e-05, 7.09670003e-05, 7.38982995e-05,\n",
       "        7.42894993e-05, 7.49299127e-05, 7.54169108e-05, 7.55715961e-05,\n",
       "        7.57267023e-05, 7.58773174e-05, 7.59526558e-05, 7.85935891e-05,\n",
       "        7.95107839e-05, 8.04441290e-05, 8.04441290e-05, 8.07956390e-05,\n",
       "        8.10080234e-05, 8.10080234e-05, 8.13940057e-05, 8.16632754e-05,\n",
       "        8.22361834e-05, 8.23782746e-05, 8.26133694e-05, 8.26133694e-05,\n",
       "        8.26133694e-05, 8.33449369e-05, 8.33449369e-05, 8.33981986e-05,\n",
       "        8.33981986e-05, 8.34367995e-05, 8.34386588e-05, 8.36953065e-05,\n",
       "        8.39080344e-05, 8.40658233e-05, 8.41031246e-05, 8.41031246e-05,\n",
       "        8.42407320e-05, 8.43468124e-05, 8.44703257e-05, 8.44703257e-05,\n",
       "        8.45010915e-05, 8.45949628e-05, 8.52353029e-05, 8.53668627e-05,\n",
       "        8.56335455e-05, 8.56335455e-05, 8.56335455e-05, 8.56937756e-05,\n",
       "        8.69963949e-05, 8.72894461e-05, 8.91926284e-05, 9.21006958e-05,\n",
       "        9.36380279e-05, 9.38027146e-05, 9.39567149e-05, 9.53200628e-05,\n",
       "        9.68480159e-05, 9.71371596e-05, 9.84343010e-05, 9.84497713e-05,\n",
       "        9.88427318e-05, 1.00679444e-04, 1.01143432e-04, 1.01466692e-04,\n",
       "        1.01627104e-04, 1.01825138e-04, 1.02519117e-04, 1.02522741e-04,\n",
       "        1.03612697e-04, 1.04193975e-04, 1.04512562e-04, 1.05424202e-04,\n",
       "        1.05520100e-04, 1.05680317e-04, 1.06400926e-04, 1.06640239e-04,\n",
       "        1.06640239e-04, 1.06717319e-04, 1.07426882e-04, 1.08911032e-04,\n",
       "        1.09167021e-04, 1.09173680e-04, 1.09192711e-04, 1.09192711e-04,\n",
       "        1.09192711e-04, 1.09295590e-04, 1.09295590e-04, 1.10462703e-04,\n",
       "        1.10474392e-04, 1.10474392e-04, 1.10474392e-04, 1.11153203e-04,\n",
       "        1.11153203e-04, 1.11153203e-04, 1.11618004e-04, 1.11798490e-04,\n",
       "        1.11877379e-04, 1.12126209e-04, 1.13166978e-04, 1.14266927e-04,\n",
       "        1.15823166e-04, 1.16527926e-04, 1.16747145e-04, 1.16795198e-04,\n",
       "        1.18063686e-04, 1.18628406e-04, 1.21914876e-04, 1.22525275e-04,\n",
       "        1.22554248e-04, 1.22696545e-04, 1.24123768e-04, 1.24701168e-04,\n",
       "        1.28243111e-04, 1.28426830e-04, 1.29424599e-04, 1.29718632e-04,\n",
       "        1.30052765e-04, 1.30783755e-04, 1.31006848e-04, 1.31701375e-04,\n",
       "        1.32535917e-04, 1.32957634e-04, 1.32957634e-04, 1.34211811e-04,\n",
       "        1.34321943e-04, 1.34321943e-04, 1.35313497e-04, 1.37071103e-04,\n",
       "        1.37732544e-04, 1.38112506e-04, 1.39670597e-04, 1.39729802e-04,\n",
       "        1.39906509e-04, 1.44012630e-04, 1.44402735e-04, 1.45532001e-04,\n",
       "        1.46422397e-04, 1.49401532e-04, 1.51976905e-04, 1.52827140e-04,\n",
       "        1.53061689e-04, 1.53880770e-04, 1.53958044e-04, 1.55476908e-04,\n",
       "        1.56512576e-04, 1.57010682e-04, 1.57010682e-04, 1.57439428e-04,\n",
       "        1.57472672e-04, 1.57841944e-04, 1.58105650e-04, 1.58317710e-04,\n",
       "        1.58403149e-04, 1.58520476e-04, 1.58520476e-04, 1.58520476e-04,\n",
       "        1.62677252e-04, 1.63888411e-04, 1.68116392e-04, 1.68202365e-04,\n",
       "        1.70122716e-04, 1.71342490e-04, 1.71423659e-04, 1.72843182e-04,\n",
       "        1.73275042e-04, 1.73847682e-04, 1.74615855e-04, 1.76550882e-04,\n",
       "        1.76635211e-04, 1.76823895e-04, 1.79273033e-04, 1.79370487e-04,\n",
       "        1.79877219e-04, 1.81931594e-04, 1.83010340e-04, 1.84279398e-04,\n",
       "        1.84479153e-04, 1.86226066e-04, 1.88518655e-04, 1.90003577e-04,\n",
       "        1.90438604e-04, 1.90479139e-04, 1.90595051e-04, 1.91223420e-04,\n",
       "        1.93082425e-04, 1.93899173e-04, 1.96050237e-04, 1.96154721e-04,\n",
       "        1.96206079e-04, 1.97066790e-04, 1.97233614e-04, 2.01118455e-04,\n",
       "        2.01438225e-04, 2.03822459e-04, 2.04593115e-04, 2.04682294e-04,\n",
       "        2.08471171e-04, 2.10731818e-04, 2.11840132e-04, 2.12557362e-04,\n",
       "        2.12716698e-04, 2.13310136e-04, 2.13388827e-04, 2.14765899e-04,\n",
       "        2.16765847e-04, 2.26890785e-04, 2.26969932e-04, 2.26969932e-04,\n",
       "        2.30107002e-04, 2.31407406e-04, 2.31836450e-04, 2.33704673e-04,\n",
       "        2.34696080e-04, 2.35922848e-04, 2.36542188e-04, 2.36576015e-04,\n",
       "        2.38278977e-04, 2.47806909e-04, 2.48226912e-04, 2.53824715e-04,\n",
       "        2.55844947e-04, 2.56853659e-04, 2.59111490e-04, 2.63445862e-04,\n",
       "        2.68423621e-04, 2.69902392e-04, 2.70535173e-04, 2.70758977e-04,\n",
       "        2.71266504e-04, 2.75508949e-04, 2.75568588e-04, 2.78229642e-04,\n",
       "        2.78796863e-04, 2.81169986e-04, 2.83524451e-04, 2.85500683e-04,\n",
       "        2.86726677e-04, 2.88419939e-04, 2.89329786e-04, 2.90544015e-04,\n",
       "        2.94477687e-04, 2.95177079e-04, 2.96267232e-04, 2.96559041e-04,\n",
       "        3.04299472e-04, 3.07408669e-04, 3.08195993e-04, 3.10625656e-04,\n",
       "        3.12237174e-04, 3.16020949e-04, 3.24794496e-04, 3.25588505e-04,\n",
       "        3.26660133e-04, 3.27267967e-04, 3.32928303e-04, 3.33455734e-04,\n",
       "        3.33672198e-04, 3.38476301e-04, 3.45099193e-04, 3.45674332e-04,\n",
       "        3.47534168e-04, 3.54323367e-04, 3.56692594e-04, 3.56824988e-04,\n",
       "        3.57659790e-04, 3.60112497e-04, 3.68518779e-04, 3.73190346e-04,\n",
       "        3.73306734e-04, 3.73968288e-04, 3.76218231e-04, 3.80007153e-04,\n",
       "        3.85879752e-04, 3.87846827e-04, 3.89574136e-04, 3.90861606e-04,\n",
       "        3.94741813e-04, 3.95540932e-04, 3.96807901e-04, 4.07025429e-04,\n",
       "        4.07091025e-04, 4.17015455e-04, 4.20362245e-04, 4.30814586e-04,\n",
       "        4.32052378e-04, 4.32692620e-04, 4.37193916e-04, 4.37321400e-04,\n",
       "        4.41584234e-04, 4.42259982e-04, 4.42389567e-04, 4.47425802e-04,\n",
       "        4.48569242e-04, 4.56736407e-04, 4.72130377e-04, 4.88110884e-04,\n",
       "        4.88770761e-04, 4.92791691e-04, 4.96901628e-04, 5.02479925e-04,\n",
       "        5.11275506e-04, 5.29612689e-04, 5.33323444e-04, 5.34971463e-04,\n",
       "        5.47140868e-04, 5.48990785e-04, 5.50537227e-04, 5.51402738e-04,\n",
       "        5.58767492e-04, 5.59532361e-04, 5.63292763e-04, 5.65737639e-04,\n",
       "        5.71042742e-04, 5.76741954e-04, 5.81986496e-04, 5.91213095e-04,\n",
       "        6.24693897e-04, 6.38061213e-04, 6.38259294e-04, 6.44457021e-04,\n",
       "        6.45247301e-04, 6.47483852e-04, 6.54975337e-04, 6.57683408e-04,\n",
       "        6.65254194e-04, 6.67030905e-04, 6.76022278e-04, 6.78494451e-04,\n",
       "        6.91674847e-04, 7.15301008e-04, 7.15370348e-04, 7.27456771e-04,\n",
       "        7.40847354e-04, 7.54218065e-04, 7.61468499e-04, 7.66985475e-04,\n",
       "        7.90123695e-04, 8.01481950e-04, 8.02393245e-04, 8.02886576e-04,\n",
       "        8.05411334e-04, 8.08817877e-04, 8.10813747e-04, 8.14672386e-04,\n",
       "        8.15761756e-04, 8.28523928e-04, 8.46710697e-04, 8.48944213e-04,\n",
       "        8.63701150e-04, 8.64460439e-04, 8.75990064e-04, 8.81835726e-04,\n",
       "        8.86217535e-04, 8.88894718e-04, 9.08379468e-04, 9.44310136e-04,\n",
       "        9.44343325e-04, 9.89689771e-04, 9.91615384e-04, 9.98515642e-04,\n",
       "        1.08645482e-03, 1.09606375e-03, 1.11433286e-03, 1.15837769e-03,\n",
       "        1.19963298e-03, 1.24144726e-03, 1.40956509e-03, 1.53456054e-03,\n",
       "        1.56079971e-03, 1.84125364e-03, 2.10139649e-03, 2.10365783e-03,\n",
       "        2.22575970e-03, 4.83940878e-03, 9.16728317e-03, 2.30808131e-02,\n",
       "        1.46548747e-01]),\n",
       " 'impurities': array([-1.89695382e-15,  5.79519771e-05,  8.70158304e-05,  1.16079684e-04,\n",
       "         1.45143537e-04,  1.74207390e-04,  2.03271244e-04,  2.32335097e-04,\n",
       "         2.61398950e-04,  2.90462803e-04,  3.19526657e-04,  3.48590510e-04,\n",
       "         3.77654363e-04,  4.06718217e-04,  4.35782070e-04,  4.64845923e-04,\n",
       "         4.93909776e-04,  5.22973630e-04,  5.52037483e-04,  5.81101336e-04,\n",
       "         6.10165190e-04,  6.39229043e-04,  6.68292896e-04,  6.97356749e-04,\n",
       "         7.26420603e-04,  7.55484456e-04,  7.84548309e-04,  8.13612163e-04,\n",
       "         8.42764415e-04,  8.71916668e-04,  9.01068920e-04,  9.30221173e-04,\n",
       "         9.59373425e-04,  9.88525678e-04,  1.01767793e-03,  1.04683018e-03,\n",
       "         1.07598244e-03,  1.10513469e-03,  1.13428694e-03,  1.16343919e-03,\n",
       "         1.19263585e-03,  1.22183250e-03,  1.25102915e-03,  1.28022581e-03,\n",
       "         1.30942246e-03,  1.33861912e-03,  1.36781577e-03,  1.39703913e-03,\n",
       "         1.42626249e-03,  1.48360417e-03,  1.54133708e-03,  1.59933199e-03,\n",
       "         1.65756564e-03,  1.71580681e-03,  1.77416202e-03,  1.88978634e-03,\n",
       "         1.97388946e-03,  2.00200305e-03,  2.05857274e-03,  2.11515623e-03,\n",
       "         2.22832321e-03,  2.34149018e-03,  2.37003002e-03,  2.39856985e-03,\n",
       "         2.42710968e-03,  2.45564952e-03,  2.48418935e-03,  2.56982290e-03,\n",
       "         2.65545644e-03,  2.74108999e-03,  2.79834327e-03,  2.85559654e-03,\n",
       "         2.97011566e-03,  2.99878472e-03,  3.14214773e-03,  3.22829125e-03,\n",
       "         3.25709080e-03,  3.28589053e-03,  3.31469025e-03,  3.37229394e-03,\n",
       "         3.45869947e-03,  3.48750131e-03,  3.51630315e-03,  3.57390684e-03,\n",
       "         3.60270868e-03,  3.63151053e-03,  3.66031237e-03,  3.68911421e-03,\n",
       "         3.71791606e-03,  3.74671790e-03,  3.77551974e-03,  3.80432159e-03,\n",
       "         3.83312343e-03,  3.89072712e-03,  3.94833080e-03,  4.00593449e-03,\n",
       "         4.06353818e-03,  4.09234002e-03,  4.12114186e-03,  4.14994371e-03,\n",
       "         4.20754739e-03,  4.26515108e-03,  4.32288399e-03,  4.35181504e-03,\n",
       "         4.38074610e-03,  4.40967715e-03,  4.43860820e-03,  4.52540497e-03,\n",
       "         4.61220173e-03,  4.69899850e-03,  4.72794830e-03,  4.78590028e-03,\n",
       "         4.84385225e-03,  4.90180423e-03,  4.95975621e-03,  5.01770819e-03,\n",
       "         5.07566016e-03,  5.13361214e-03,  5.19156412e-03,  5.24951609e-03,\n",
       "         5.33646837e-03,  5.36547867e-03,  5.45251188e-03,  5.48157573e-03,\n",
       "         5.51063958e-03,  5.56876729e-03,  5.62689500e-03,  5.65595885e-03,\n",
       "         5.68502270e-03,  5.71408656e-03,  5.74315041e-03,  5.77221426e-03,\n",
       "         5.80127812e-03,  5.83034197e-03,  5.85940582e-03,  5.88846968e-03,\n",
       "         5.91753353e-03,  5.97566124e-03,  6.00472509e-03,  6.06285280e-03,\n",
       "         6.09191665e-03,  6.12098050e-03,  6.15004436e-03,  6.17910821e-03,\n",
       "         6.23734187e-03,  6.29557552e-03,  6.35380918e-03,  6.38296143e-03,\n",
       "         6.41211369e-03,  6.44126594e-03,  6.47041819e-03,  6.49961484e-03,\n",
       "         6.52881150e-03,  6.55800815e-03,  6.58723151e-03,  6.72953030e-03,\n",
       "         6.87182909e-03,  6.98496848e-03,  7.09813545e-03,  7.21234621e-03,\n",
       "         7.32686533e-03,  7.44138444e-03,  7.55624141e-03,  7.67110049e-03,\n",
       "         7.78630786e-03,  7.95412393e-03,  8.12387440e-03,  8.20950794e-03,\n",
       "         8.29514149e-03,  8.38077503e-03,  8.46640858e-03,  8.55242287e-03,\n",
       "         8.63882840e-03,  8.72523393e-03,  8.81163946e-03,  8.89826667e-03,\n",
       "         8.98494726e-03,  9.07174403e-03,  9.15877724e-03,  9.30322050e-03,\n",
       "         9.49690080e-03,  9.69408250e-03,  9.79950670e-03,  9.90679034e-03,\n",
       "         1.00140740e-02,  1.00680163e-02,  1.01225974e-02,  1.01771809e-02,\n",
       "         1.02317645e-02,  1.02863608e-02,  1.05049520e-02,  1.05601833e-02,\n",
       "         1.07262725e-02,  1.07818357e-02,  1.09486321e-02,  1.10045254e-02,\n",
       "         1.11163239e-02,  1.11723836e-02,  1.14528177e-02,  1.16771687e-02,\n",
       "         1.17333959e-02,  1.19587097e-02,  1.20152759e-02,  1.20718431e-02,\n",
       "         1.21284127e-02,  1.21849824e-02,  1.22415521e-02,  1.22981218e-02,\n",
       "         1.23546915e-02,  1.24112612e-02,  1.25809874e-02,  1.27507378e-02,\n",
       "         1.28639048e-02,  1.29204883e-02,  1.29770718e-02,  1.30336553e-02,\n",
       "         1.30902388e-02,  1.31468222e-02,  1.32034057e-02,  1.32599892e-02,\n",
       "         1.33165727e-02,  1.33731562e-02,  1.34863232e-02,  1.35429067e-02,\n",
       "         1.37126774e-02,  1.38259925e-02,  1.39396559e-02,  1.41103441e-02,\n",
       "         1.41674237e-02,  1.43388659e-02,  1.43961191e-02,  1.45106697e-02,\n",
       "         1.45680604e-02,  1.46254510e-02,  1.47402636e-02,  1.47978673e-02,\n",
       "         1.48554709e-02,  1.49130746e-02,  1.49706783e-02,  1.50286303e-02,\n",
       "         1.50865823e-02,  1.51445342e-02,  1.52026620e-02,  1.52607897e-02,\n",
       "         1.53189174e-02,  1.57026067e-02,  1.58955239e-02,  1.60909394e-02,\n",
       "         1.62876735e-02,  1.64849574e-02,  1.66822824e-02,  1.70876629e-02,\n",
       "         1.73580627e-02,  1.77741294e-02,  1.80543093e-02,  1.83352234e-02,\n",
       "         1.84759100e-02,  1.86165967e-02,  1.87585307e-02,  1.90541239e-02,\n",
       "         1.93512819e-02,  1.95760716e-02,  1.98777392e-02,  2.01800256e-02,\n",
       "         2.02557523e-02,  2.05592616e-02,  2.07871196e-02,  2.08657131e-02,\n",
       "         2.09452239e-02,  2.10256681e-02,  2.11061122e-02,  2.11869078e-02,\n",
       "         2.12679159e-02,  2.13489239e-02,  2.14303179e-02,  2.15119812e-02,\n",
       "         2.15942173e-02,  2.18413522e-02,  2.19239655e-02,  2.20065789e-02,\n",
       "         2.20891923e-02,  2.21725372e-02,  2.22558821e-02,  2.23392803e-02,\n",
       "         2.24226785e-02,  2.25895521e-02,  2.28398681e-02,  2.30909540e-02,\n",
       "         2.34265862e-02,  2.35947178e-02,  2.36788209e-02,  2.37629241e-02,\n",
       "         2.39314055e-02,  2.40157523e-02,  2.41002227e-02,  2.41846930e-02,\n",
       "         2.44381963e-02,  2.45227912e-02,  2.46080265e-02,  2.46933934e-02,\n",
       "         2.47790269e-02,  2.48646605e-02,  2.49502940e-02,  2.51216816e-02,\n",
       "         2.58176527e-02,  2.61668105e-02,  2.65235810e-02,  2.70761852e-02,\n",
       "         2.73570993e-02,  2.77323102e-02,  2.80141803e-02,  2.85861007e-02,\n",
       "         2.88766447e-02,  2.91680562e-02,  2.92664905e-02,  2.93649403e-02,\n",
       "         2.95626257e-02,  2.96633052e-02,  2.98655921e-02,  3.01699921e-02,\n",
       "         3.06781277e-02,  3.07799528e-02,  3.08824719e-02,  3.09849946e-02,\n",
       "         3.10886073e-02,  3.11928013e-02,  3.14018264e-02,  3.15072506e-02,\n",
       "         3.17182908e-02,  3.20353318e-02,  3.21417327e-02,  3.22483730e-02,\n",
       "         3.23550132e-02,  3.25684478e-02,  3.29981554e-02,  3.32159774e-02,\n",
       "         3.33251444e-02,  3.34343181e-02,  3.35435108e-02,  3.36527036e-02,\n",
       "         3.37618963e-02,  3.38711919e-02,  3.39804874e-02,  3.40909501e-02,\n",
       "         3.42014245e-02,  3.43118989e-02,  3.44223733e-02,  3.45335265e-02,\n",
       "         3.46446797e-02,  3.47558329e-02,  3.48674509e-02,  3.49792494e-02,\n",
       "         3.53148816e-02,  3.54270078e-02,  3.55401747e-02,  3.56544417e-02,\n",
       "         3.64652038e-02,  3.69313155e-02,  3.73983041e-02,  3.77486897e-02,\n",
       "         3.78667534e-02,  3.83412670e-02,  3.88289265e-02,  3.89514518e-02,\n",
       "         3.93191146e-02,  3.95645076e-02,  3.96886314e-02,  3.99380337e-02,\n",
       "         4.03227631e-02,  4.04511899e-02,  4.17454359e-02,  4.18751545e-02,\n",
       "         4.20052073e-02,  4.23975586e-02,  4.25285654e-02,  4.29236695e-02,\n",
       "         4.30562054e-02,  4.31891631e-02,  4.33221207e-02,  4.38589680e-02,\n",
       "         4.39932899e-02,  4.41276118e-02,  4.42629253e-02,  4.43999964e-02,\n",
       "         4.45377290e-02,  4.48139540e-02,  4.56519776e-02,  4.57917074e-02,\n",
       "         4.59316139e-02,  4.69397023e-02,  4.73729105e-02,  4.75184425e-02,\n",
       "         4.76648649e-02,  4.82624710e-02,  4.88703787e-02,  4.90232058e-02,\n",
       "         4.91762675e-02,  4.94840290e-02,  4.97919451e-02,  4.99474220e-02,\n",
       "         5.04169597e-02,  5.05739704e-02,  5.07309811e-02,  5.10458600e-02,\n",
       "         5.12033326e-02,  5.16768585e-02,  5.18349641e-02,  5.34181412e-02,\n",
       "         5.43685601e-02,  5.45270806e-02,  5.46856011e-02,  5.48441215e-02,\n",
       "         5.53321533e-02,  5.54960417e-02,  5.56641581e-02,  5.58323605e-02,\n",
       "         5.60024832e-02,  5.61738257e-02,  5.66880966e-02,  5.68609398e-02,\n",
       "         5.70342149e-02,  5.72080625e-02,  5.79065260e-02,  5.87892804e-02,\n",
       "         5.93191860e-02,  5.94960099e-02,  5.96752829e-02,  6.02133944e-02,\n",
       "         6.03932716e-02,  6.05752032e-02,  6.07582136e-02,  6.13110517e-02,\n",
       "         6.20489684e-02,  6.22351944e-02,  6.28007504e-02,  6.35607647e-02,\n",
       "         6.37512033e-02,  6.39416824e-02,  6.41322775e-02,  6.43235009e-02,\n",
       "         6.49027482e-02,  6.50966474e-02,  6.68610995e-02,  6.74495637e-02,\n",
       "         6.82343880e-02,  6.84314548e-02,  6.86286884e-02,  6.94331622e-02,\n",
       "         6.96346004e-02,  7.02460678e-02,  7.04506609e-02,  7.20881193e-02,\n",
       "         7.22965904e-02,  7.25073223e-02,  7.27191624e-02,  7.46321786e-02,\n",
       "         7.48448953e-02,  7.50582055e-02,  7.67653161e-02,  7.69800820e-02,\n",
       "         7.78471454e-02,  7.80740362e-02,  7.83010061e-02,  7.85279760e-02,\n",
       "         7.94484040e-02,  7.96798114e-02,  7.99116479e-02,  8.08464666e-02,\n",
       "         8.10811627e-02,  8.13170855e-02,  8.15536277e-02,  8.24999318e-02,\n",
       "         8.32147687e-02,  8.34625756e-02,  8.39590294e-02,  8.57358024e-02,\n",
       "         8.65033373e-02,  8.67601909e-02,  8.70193024e-02,  8.85999776e-02,\n",
       "         8.88684012e-02,  8.94082060e-02,  8.96787412e-02,  8.99495001e-02,\n",
       "         9.02207666e-02,  9.10472935e-02,  9.13228621e-02,  9.16010917e-02,\n",
       "         9.27162792e-02,  9.44032991e-02,  9.69550191e-02,  9.72405198e-02,\n",
       "         9.92476066e-02,  9.95360265e-02,  1.00404016e-01,  1.00694560e-01,\n",
       "         1.00989038e-01,  1.02464923e-01,  1.03057457e-01,  1.03354016e-01,\n",
       "         1.04571214e-01,  1.04878623e-01,  1.05186819e-01,  1.07361199e-01,\n",
       "         1.07673436e-01,  1.08305478e-01,  1.08630272e-01,  1.08955861e-01,\n",
       "         1.09282521e-01,  1.09609789e-01,  1.09942717e-01,  1.10276173e-01,\n",
       "         1.10609845e-01,  1.11286798e-01,  1.14392690e-01,  1.14738365e-01,\n",
       "         1.17518638e-01,  1.20353225e-01,  1.22136688e-01,  1.23207163e-01,\n",
       "         1.23922482e-01,  1.25723045e-01,  1.26091564e-01,  1.27584325e-01,\n",
       "         1.27957632e-01,  1.28331600e-01,  1.28707818e-01,  1.29087826e-01,\n",
       "         1.34490142e-01,  1.37592917e-01,  1.39151213e-01,  1.39932936e-01,\n",
       "         1.41117162e-01,  1.41908244e-01,  1.42305052e-01,  1.44340179e-01,\n",
       "         1.44747270e-01,  1.45998316e-01,  1.46418678e-01,  1.46849493e-01,\n",
       "         1.47713598e-01,  1.48146290e-01,  1.49020678e-01,  1.50769964e-01,\n",
       "         1.51211548e-01,  1.55191888e-01,  1.55634277e-01,  1.56976555e-01,\n",
       "         1.58322263e-01,  1.59692472e-01,  1.60164602e-01,  1.61140824e-01,\n",
       "         1.62118365e-01,  1.63103949e-01,  1.63600850e-01,  1.64103330e-01,\n",
       "         1.64614606e-01,  1.65673831e-01,  1.68340449e-01,  1.69945363e-01,\n",
       "         1.71586786e-01,  1.72135776e-01,  1.76540074e-01,  1.79848491e-01,\n",
       "         1.80407258e-01,  1.82085855e-01,  1.82649148e-01,  1.83214886e-01,\n",
       "         1.84356971e-01,  1.84933713e-01,  1.85515699e-01,  1.86106913e-01,\n",
       "         1.86731606e-01,  1.88007729e-01,  1.89922507e-01,  1.93144792e-01,\n",
       "         1.93790039e-01,  1.94437523e-01,  1.95092498e-01,  1.97065549e-01,\n",
       "         1.97730803e-01,  2.00398926e-01,  2.01074949e-01,  2.01753443e-01,\n",
       "         2.08670192e-01,  2.10100794e-01,  2.11531534e-01,  2.13713905e-01,\n",
       "         2.14454752e-01,  2.15963188e-01,  2.16724657e-01,  2.19025613e-01,\n",
       "         2.19815737e-01,  2.20617219e-01,  2.23826792e-01,  2.24629678e-01,\n",
       "         2.27045912e-01,  2.27854730e-01,  2.30287171e-01,  2.31101844e-01,\n",
       "         2.34364891e-01,  2.36850463e-01,  2.38543884e-01,  2.40241772e-01,\n",
       "         2.41105473e-01,  2.42834394e-01,  2.47214345e-01,  2.49859852e-01,\n",
       "         2.56949592e-01,  2.59616276e-01,  2.60524656e-01,  2.61468966e-01,\n",
       "         2.62413309e-01,  2.69341138e-01,  2.71324368e-01,  2.74319915e-01,\n",
       "         2.75406370e-01,  2.78694561e-01,  2.82037560e-01,  2.83195938e-01,\n",
       "         2.87994470e-01,  2.89235917e-01,  2.93464612e-01,  2.94999173e-01,\n",
       "         2.99681572e-01,  3.01522825e-01,  3.07827015e-01,  3.14137988e-01,\n",
       "         3.16363748e-01,  3.21203157e-01,  3.30370440e-01,  3.53451253e-01,\n",
       "         5.00000000e-01])}"
      ]
     },
     "execution_count": 75,
     "metadata": {},
     "output_type": "execute_result"
    }
   ],
   "source": [
    "path=classifier.cost_complexity_pruning_path(X_trimputed,y_train)\n",
    "path"
   ]
  },
  {
   "cell_type": "code",
   "execution_count": 76,
   "metadata": {},
   "outputs": [],
   "source": [
    "alphas,impurities=path.ccp_alphas,path.impurities"
   ]
  },
  {
   "cell_type": "code",
   "execution_count": 77,
   "metadata": {},
   "outputs": [
    {
     "data": {
      "text/plain": [
       "(0.0, 0.14654874693823133)"
      ]
     },
     "execution_count": 77,
     "metadata": {},
     "output_type": "execute_result"
    }
   ],
   "source": [
    "alphas.min(),alphas.max()"
   ]
  },
  {
   "cell_type": "code",
   "execution_count": 84,
   "metadata": {},
   "outputs": [],
   "source": [
    "x_alphas=np.arange(0.0,0.40,0.1)"
   ]
  },
  {
   "cell_type": "code",
   "execution_count": 85,
   "metadata": {},
   "outputs": [],
   "source": [
    "train_f1=[]\n",
    "test_f1=[]\n",
    "\n",
    "for i in x_alphas:\n",
    "    classifier=DecisionTreeClassifier(class_weight='balanced',ccp_alpha=i,random_state=40)\n",
    "\n",
    "    classifier.fit(X_trimputed,y_train)\n",
    "\n",
    "    y_train_pred = classifier.predict(X_trimputed)\n",
    "    y_test_pred = classifier.predict(X_teimputed)\n",
    "    \n",
    "    train_f1.append(roc_auc_score(y_train,y_train_pred))\n",
    "    test_f1.append(roc_auc_score(y_test,y_test_pred))"
   ]
  },
  {
   "cell_type": "code",
   "execution_count": 86,
   "metadata": {},
   "outputs": [
    {
     "data": {
      "text/plain": [
       "<matplotlib.axes._subplots.AxesSubplot at 0x1ef9dc8bac8>"
      ]
     },
     "execution_count": 86,
     "metadata": {},
     "output_type": "execute_result"
    },
    {
     "data": {
      "image/png": "[encoded data removed]",
      "text/plain": [
       "<Figure size 1080x504 with 1 Axes>"
      ]
     },
     "metadata": {
      "needs_background": "light"
     },
     "output_type": "display_data"
    }
   ],
   "source": [
    "plt.figure(figsize=(15,7))\n",
    "\n",
    "sns.lineplot(y=train_f1,x=x_alphas,label=\"Train F1\")\n",
    "sns.lineplot(y=test_f1,x=x_alphas,label=\"Test F1\")"
   ]
  },
  {
   "cell_type": "code",
   "execution_count": 147,
   "metadata": {},
   "outputs": [
    {
     "data": {
      "text/html": [
       "<div>\n",
       "<style scoped>\n",
       "    .dataframe tbody tr th:only-of-type {\n",
       "        vertical-align: middle;\n",
       "    }\n",
       "\n",
       "    .dataframe tbody tr th {\n",
       "        vertical-align: top;\n",
       "    }\n",
       "\n",
       "    .dataframe thead th {\n",
       "        text-align: right;\n",
       "    }\n",
       "</style>\n",
       "<table border=\"1\" class=\"dataframe\">\n",
       "  <thead>\n",
       "    <tr style=\"text-align: right;\">\n",
       "      <th></th>\n",
       "      <th>alphas</th>\n",
       "      <th>train_f1</th>\n",
       "      <th>test_f1</th>\n",
       "    </tr>\n",
       "  </thead>\n",
       "  <tbody>\n",
       "    <tr>\n",
       "      <th>133</th>\n",
       "      <td>0.000027</td>\n",
       "      <td>0.768780</td>\n",
       "      <td>0.090566</td>\n",
       "    </tr>\n",
       "    <tr>\n",
       "      <th>134</th>\n",
       "      <td>0.000027</td>\n",
       "      <td>0.768780</td>\n",
       "      <td>0.090566</td>\n",
       "    </tr>\n",
       "    <tr>\n",
       "      <th>135</th>\n",
       "      <td>0.000027</td>\n",
       "      <td>0.768780</td>\n",
       "      <td>0.090566</td>\n",
       "    </tr>\n",
       "    <tr>\n",
       "      <th>136</th>\n",
       "      <td>0.000027</td>\n",
       "      <td>0.768780</td>\n",
       "      <td>0.090566</td>\n",
       "    </tr>\n",
       "    <tr>\n",
       "      <th>137</th>\n",
       "      <td>0.000027</td>\n",
       "      <td>0.767578</td>\n",
       "      <td>0.090566</td>\n",
       "    </tr>\n",
       "  </tbody>\n",
       "</table>\n",
       "</div>"
      ],
      "text/plain": [
       "       alphas  train_f1   test_f1\n",
       "133  0.000027  0.768780  0.090566\n",
       "134  0.000027  0.768780  0.090566\n",
       "135  0.000027  0.768780  0.090566\n",
       "136  0.000027  0.768780  0.090566\n",
       "137  0.000027  0.767578  0.090566"
      ]
     },
     "execution_count": 147,
     "metadata": {},
     "output_type": "execute_result"
    }
   ],
   "source": [
    "df=pd.DataFrame({\"alphas\":alphas,\"train_f1\":train_f1,\"test_f1\":test_f1})\n",
    "df[df.test_f1==df.test_f1.max()]"
   ]
  },
  {
   "cell_type": "code",
   "execution_count": 87,
   "metadata": {},
   "outputs": [
    {
     "data": {
      "text/plain": [
       "(0.07690242920413366, 0.07625099285146941)"
      ]
     },
     "execution_count": 87,
     "metadata": {},
     "output_type": "execute_result"
    }
   ],
   "source": [
    "classifier=DecisionTreeClassifier(ccp_alpha=0.10,random_state=40,class_weight='balanced')\n",
    "\n",
    "classifier.fit(X_trimputed,y_train)\n",
    "\n",
    "y_train_pred = classifier.predict(X_trimputed)\n",
    "y_test_pred = classifier.predict(X_teimputed)\n",
    "\n",
    "f1_score(y_train,y_train_pred),f1_score(y_test,y_test_pred)"
   ]
  },
  {
   "cell_type": "code",
   "execution_count": 88,
   "metadata": {},
   "outputs": [
    {
     "data": {
      "text/plain": [
       "array([0.69488169, 0.12400585, 0.12400585, ..., 0.12400585, 0.69488169,\n",
       "       0.69488169])"
      ]
     },
     "execution_count": 88,
     "metadata": {},
     "output_type": "execute_result"
    }
   ],
   "source": [
    "y_train_prob=classifier.predict_proba(X_trimputed)[:,1]\n",
    "y_train_prob\n",
    "\n",
    "y_test_prob=classifier.predict_proba(X_teimputed)[:,1]\n",
    "y_test_prob\n"
   ]
  },
  {
   "cell_type": "code",
   "execution_count": 89,
   "metadata": {},
   "outputs": [
    {
     "data": {
      "text/plain": [
       "(0.7567086185889752, 0.7546799181831702)"
      ]
     },
     "execution_count": 89,
     "metadata": {},
     "output_type": "execute_result"
    }
   ],
   "source": [
    "roc_auc_score(y_train,y_train_prob),roc_auc_score(y_test,y_test_prob)"
   ]
  },
  {
   "cell_type": "markdown",
   "metadata": {},
   "source": [
    "**This is the maximum test score we are getting on the original split using a decision tree which is not sufficient**"
   ]
  },
  {
   "cell_type": "markdown",
   "metadata": {},
   "source": [
    "## Naive Bayes"
   ]
  },
  {
   "cell_type": "code",
   "execution_count": 27,
   "metadata": {},
   "outputs": [],
   "source": [
    "from sklearn.naive_bayes import GaussianNB\n",
    "from sklearn.metrics import roc_auc_score,f1_score"
   ]
  },
  {
   "cell_type": "code",
   "execution_count": 20,
   "metadata": {},
   "outputs": [],
   "source": [
    "naivebayes=GaussianNB()"
   ]
  },
  {
   "cell_type": "code",
   "execution_count": 29,
   "metadata": {},
   "outputs": [],
   "source": [
    "naivebayes.fit(X_trimputed,y_train)\n",
    "y_train_pred=naivebayes.predict(X_trimputed)\n",
    "y_test_pred=naivebayes.predict(X_teimputed)"
   ]
  },
  {
   "cell_type": "code",
   "execution_count": 24,
   "metadata": {},
   "outputs": [],
   "source": [
    "y_train_prob=naivebayes.predict_proba(X_trimputed)[:,1]\n",
    "y_test_prob=naivebayes.predict_proba(X_teimputed)[:,1]"
   ]
  },
  {
   "cell_type": "code",
   "execution_count": 25,
   "metadata": {},
   "outputs": [
    {
     "data": {
      "text/plain": [
       "(0.821759906973972, 0.8289506625384591)"
      ]
     },
     "execution_count": 25,
     "metadata": {},
     "output_type": "execute_result"
    }
   ],
   "source": [
    "roc_auc_score(y_train,y_train_prob),roc_auc_score(y_test,y_test_prob)"
   ]
  },
  {
   "cell_type": "code",
   "execution_count": 30,
   "metadata": {},
   "outputs": [
    {
     "data": {
      "text/plain": [
       "(0.04183006535947713, 0.042380888109056554)"
      ]
     },
     "execution_count": 30,
     "metadata": {},
     "output_type": "execute_result"
    }
   ],
   "source": [
    "f1_score(y_train,y_train_pred),f1_score(y_test,y_test_pred)"
   ]
  }
 ],
 "metadata": {
  "kernelspec": {
   "display_name": "Python 3",
   "language": "python",
   "name": "python3"
  },
  "language_info": {
   "codemirror_mode": {
    "name": "ipython",
    "version": 3
   },
   "file_extension": ".py",
   "mimetype": "text/x-python",
   "name": "python",
   "nbconvert_exporter": "python",
   "pygments_lexer": "ipython3",
   "version": "3.7.6"
  }
 },
 "nbformat": 4,
 "nbformat_minor": 4
}
